{
 "cells": [
  {
   "cell_type": "markdown",
   "id": "8ff570c8-5c19-45a8-a71e-099e91720fcb",
   "metadata": {},
   "source": [
    "Q1. How do you comment code in Python? What are the different types of comments?"
   ]
  },
  {
   "cell_type": "raw",
   "id": "5e7620e5-4933-436a-b166-8a94e345cb4a",
   "metadata": {},
   "source": [
    "Comments are explanations or notes provided with the original code. Unlike code, comments are not executed by python. For single line comments a \"#\" is used before the beginning of the line where comment has been provided. \n",
    "                Similarly for multi line comment a pair of 3 single or double quotes are provided at the beginning and at the end of the comment. Both (single quotes (') and double quotes(\" \") works in the same manner, only consistency is required.\n",
    "                Respective examples are provided below."
   ]
  },
  {
   "cell_type": "code",
   "execution_count": 1,
   "id": "b2c9cb60-707b-4810-b5d0-a8d37b616a8b",
   "metadata": {},
   "outputs": [
    {
     "name": "stdout",
     "output_type": "stream",
     "text": [
      "hello world!\n"
     ]
    }
   ],
   "source": [
    "#single line comment-\n",
    "print(\"hello world!\")"
   ]
  },
  {
   "cell_type": "code",
   "execution_count": 2,
   "id": "9d090b95-5fd2-4f7c-abaf-1dcb15ebff2e",
   "metadata": {},
   "outputs": [
    {
     "name": "stdout",
     "output_type": "stream",
     "text": [
      "hello world!\n"
     ]
    }
   ],
   "source": [
    "\"\"\"This is \n",
    "multi line \n",
    "comment\"\"\"\n",
    "print(\"hello world!\")"
   ]
  },
  {
   "cell_type": "markdown",
   "id": "06818bbd-7f48-44ba-8585-677f19ef20ef",
   "metadata": {},
   "source": [
    "Q2. What are variables in Python? How do you declare and assign values to variables?"
   ]
  },
  {
   "cell_type": "raw",
   "id": "5664d646-aab7-4c0e-89c2-91301f060dfd",
   "metadata": {},
   "source": [
    "Variables are used to store and manipulate data. A variable is a name that refers to a value stored in the computer's memory. Some relevant examples are provided below-"
   ]
  },
  {
   "cell_type": "code",
   "execution_count": 3,
   "id": "0d596250-8f20-4e06-bb54-3fc99c23d84b",
   "metadata": {},
   "outputs": [],
   "source": [
    "# Integer variable\n",
    "age = 25\n",
    "\n",
    "# Floating-point variable\n",
    "a = 2.5\n",
    "\n",
    "# String variable\n",
    "name = \"Tikku\"\n",
    "\n",
    "# Boolean variable\n",
    "is_student = True\n",
    "\n",
    "# List variable\n",
    "l = [1, 2, 3, 4, 5]\n",
    "\n",
    "# Dictionary variable\n",
    "person = {\"name\": \"tikku\", \"age\": 27}\n"
   ]
  },
  {
   "cell_type": "markdown",
   "id": "1d882041-11d8-4a54-bd26-a8a95cde62d8",
   "metadata": {},
   "source": [
    "Q3. How do you convert one data type to another in Python?"
   ]
  },
  {
   "cell_type": "raw",
   "id": "2e48449d-772d-4c52-b3d2-cb875b4260ff",
   "metadata": {},
   "source": [
    "conversion from one data type to another is achieved by using type conversion functions or constructors. A easier example to convert a input by typecasting is provided below-"
   ]
  },
  {
   "cell_type": "code",
   "execution_count": 9,
   "id": "54234813-9118-408e-bba6-9ef53232a1a7",
   "metadata": {},
   "outputs": [
    {
     "name": "stdin",
     "output_type": "stream",
     "text": [
      "Enter a Number:  4\n"
     ]
    },
    {
     "name": "stdout",
     "output_type": "stream",
     "text": [
      "Number sqaured is: 16\n"
     ]
    }
   ],
   "source": [
    "number = int(input(\"Enter a Number: \"))\n",
    "print(f\"Number sqaured is: {number**2}\")"
   ]
  },
  {
   "cell_type": "markdown",
   "id": "5f9891f3-eb26-45c0-ab3c-d775695767e7",
   "metadata": {},
   "source": [
    "Q4. How do you write and execute a Python script from the command line?"
   ]
  },
  {
   "cell_type": "markdown",
   "id": "e9f6e614-ec7f-4f73-b81b-fd980765b8a2",
   "metadata": {},
   "source": [
    "Any python file with \".py\" extension can be executed from the command prompt, by following steps below-\n",
    "\n",
    "Step 1 - Navigate to the directory where file is saved.\n",
    "Step 2 - Type \"python filename.py\" and press enter.\n",
    "\n",
    "*pre requisite- Device must have python already installed. "
   ]
  },
  {
   "cell_type": "markdown",
   "id": "0e2d3aa0-72c1-41bd-936d-7f605fb8c858",
   "metadata": {},
   "source": [
    "Q5. Given a list my_list = [1, 2, 3, 4, 5], write the code to slice the list and obtain the sub-list [2, 3]."
   ]
  },
  {
   "cell_type": "code",
   "execution_count": 3,
   "id": "ea259f6a-b233-4db8-802e-01f01732caa5",
   "metadata": {},
   "outputs": [
    {
     "data": {
      "text/plain": [
       "[2, 3]"
      ]
     },
     "execution_count": 3,
     "metadata": {},
     "output_type": "execute_result"
    }
   ],
   "source": [
    "my_list = [1,2,3,4,5]\n",
    "my_list[1:3]"
   ]
  },
  {
   "cell_type": "markdown",
   "id": "20758043-6d54-46a1-9c4c-3af9e0c9ba4b",
   "metadata": {},
   "source": [
    "Q6. What is a complex number in mathematics, and how is it represented in Python?"
   ]
  },
  {
   "cell_type": "markdown",
   "id": "d6c1e25b-b998-435b-aac3-4d615f96cb90",
   "metadata": {},
   "source": [
    "A complex number in mathematics is a combination of real and imaginary number in the format of \"a+bi\" ( \"a\" is real part while\n",
    "\"bi\" is imaginary). There are two ways to represent complex number in python, shown below-"
   ]
  },
  {
   "cell_type": "code",
   "execution_count": 6,
   "id": "b18affb7-0e12-4526-8262-eeb70a16cee4",
   "metadata": {},
   "outputs": [
    {
     "data": {
      "text/plain": [
       "(2+4j)"
      ]
     },
     "execution_count": 6,
     "metadata": {},
     "output_type": "execute_result"
    }
   ],
   "source": [
    "#using complex() function-\n",
    "\n",
    "comp = complex(2,4)\n",
    "comp"
   ]
  },
  {
   "cell_type": "code",
   "execution_count": 7,
   "id": "180316bf-bc6a-4331-9601-9b11071ba6e8",
   "metadata": {},
   "outputs": [
    {
     "data": {
      "text/plain": [
       "(1+3j)"
      ]
     },
     "execution_count": 7,
     "metadata": {},
     "output_type": "execute_result"
    }
   ],
   "source": [
    "# By using assignment functions-\n",
    "comp1 = 1+3j\n",
    "comp1"
   ]
  },
  {
   "cell_type": "markdown",
   "id": "4f2a977e-23b1-4412-aa93-40bde9dba046",
   "metadata": {},
   "source": [
    "Q7. What is the correct way to declare a variable named age and assign the value 25 to it?"
   ]
  },
  {
   "cell_type": "code",
   "execution_count": 17,
   "id": "aadcedd0-3b54-413b-9e09-d0198fc6de1f",
   "metadata": {},
   "outputs": [
    {
     "name": "stdout",
     "output_type": "stream",
     "text": [
      "Age is 25\n"
     ]
    }
   ],
   "source": [
    "age = 25\n",
    "print(\"Age is {}\".format(age))"
   ]
  },
  {
   "cell_type": "markdown",
   "id": "55229907-7bdf-4522-812c-0ef01e034ef8",
   "metadata": {},
   "source": [
    "Q8. Declare a variable named price and assign the value 9.99 to it. What data type does this variable\n",
    "belong to?"
   ]
  },
  {
   "cell_type": "code",
   "execution_count": 18,
   "id": "4900ae07-ff8e-4b35-8037-110130592997",
   "metadata": {},
   "outputs": [],
   "source": [
    "price = 9.99"
   ]
  },
  {
   "cell_type": "code",
   "execution_count": 19,
   "id": "64e1bee3-0113-47dc-a280-b08d0d9f2ba3",
   "metadata": {},
   "outputs": [
    {
     "data": {
      "text/plain": [
       "float"
      ]
     },
     "execution_count": 19,
     "metadata": {},
     "output_type": "execute_result"
    }
   ],
   "source": [
    "type(price)\n",
    "# as shown bu the ouput below, it belongs to float"
   ]
  },
  {
   "cell_type": "markdown",
   "id": "4c58945e-ed92-4137-9dcc-bd8a5524485d",
   "metadata": {},
   "source": [
    "Q9. Create a variable named name and assign your full name to it as a string. How would you print the\n",
    "value of this variable?"
   ]
  },
  {
   "cell_type": "code",
   "execution_count": 20,
   "id": "bbe4d4db-2cd9-4ed5-9a4e-f9402099293c",
   "metadata": {},
   "outputs": [
    {
     "name": "stdout",
     "output_type": "stream",
     "text": [
      "My name is Tikeshwar Singh Patel\n"
     ]
    }
   ],
   "source": [
    "name = \"Tikeshwar Singh Patel\"\n",
    "print(\"My name is {}\".format(name))"
   ]
  },
  {
   "cell_type": "markdown",
   "id": "04359228-4f14-4b60-a52a-dbf7da81e7a8",
   "metadata": {},
   "source": [
    "Q10. Given the string \"Hello, World!\", extract the substring \"World\"."
   ]
  },
  {
   "cell_type": "code",
   "execution_count": 23,
   "id": "57b31677-17e2-487d-9b98-96320b8ec638",
   "metadata": {},
   "outputs": [
    {
     "data": {
      "text/plain": [
       "'World'"
      ]
     },
     "execution_count": 23,
     "metadata": {},
     "output_type": "execute_result"
    }
   ],
   "source": [
    "a = \"Hello, World!\"\n",
    "a[7:12]"
   ]
  },
  {
   "cell_type": "markdown",
   "id": "3730f322-b1dd-40b2-a935-41bcce003e4c",
   "metadata": {},
   "source": [
    "Q11. Create a variable named \"is_student\" and assign it a boolean value indicating whether you are\n",
    "currently a student or not."
   ]
  },
  {
   "cell_type": "code",
   "execution_count": 32,
   "id": "819fd8c4-5eb0-46fd-a5ba-73b229ac6047",
   "metadata": {},
   "outputs": [
    {
     "name": "stdout",
     "output_type": "stream",
     "text": [
      "I am not a student\n"
     ]
    }
   ],
   "source": [
    "is_student = False\n",
    "\n",
    "if is_student==False:\n",
    "    print(\"I am not a student\")\n",
    "else:\n",
    "    print(\"I am a student\")\n"
   ]
  },
  {
   "cell_type": "code",
   "execution_count": null,
   "id": "0b879992-6ee8-49a3-90bd-de31e1bfbe1b",
   "metadata": {},
   "outputs": [],
   "source": []
  }
 ],
 "metadata": {
  "kernelspec": {
   "display_name": "Python 3 (ipykernel)",
   "language": "python",
   "name": "python3"
  },
  "language_info": {
   "codemirror_mode": {
    "name": "ipython",
    "version": 3
   },
   "file_extension": ".py",
   "mimetype": "text/x-python",
   "name": "python",
   "nbconvert_exporter": "python",
   "pygments_lexer": "ipython3",
   "version": "3.10.8"
  }
 },
 "nbformat": 4,
 "nbformat_minor": 5
}
