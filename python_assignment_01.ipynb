{
 "cells": [
  {
   "cell_type": "markdown",
   "id": "0917edf6-27b0-419d-9041-cc255298f250",
   "metadata": {
    "tags": []
   },
   "source": [
    "# Question 1. One variable containing following type of data\n",
    "\t\n",
    "(i)string;\n",
    "(ii)list;\n",
    "(iii)float;\n",
    "(iv)tuple."
   ]
  },
  {
   "cell_type": "code",
   "execution_count": 6,
   "id": "a9ff5294-3a40-4924-9db9-448a9e7db860",
   "metadata": {},
   "outputs": [
    {
     "name": "stdout",
     "output_type": "stream",
     "text": [
      "my name is tikku\n"
     ]
    }
   ],
   "source": [
    "\"\"\"string is a group of characters. it can contain spaces, letters, numbers, symbols.\n",
    "ie- My name is tikkku\"\"\"\n",
    "\n",
    "name = \"tikku\"\n",
    "print(f\"my name is {name}\")\n",
    "#the ouput is the example of a string."
   ]
  },
  {
   "cell_type": "code",
   "execution_count": 8,
   "id": "f636b4e2-474b-48ef-9b45-c2605f081750",
   "metadata": {},
   "outputs": [
    {
     "data": {
      "text/plain": [
       "[25, 2.5, 'tikku', (3+4j), True]"
      ]
     },
     "execution_count": 8,
     "metadata": {},
     "output_type": "execute_result"
    }
   ],
   "source": [
    "\"\"\"list is a mutable type of data structure (modification of the elements is possible after\n",
    "its creation) it can hold string, float, int, bool and complex numbers ec cetera\"\"\"\n",
    "list = [25, 2.5, \"tikku\", 3+4j, True]\n",
    "list\n",
    "#the ouput is the example of a list."
   ]
  },
  {
   "cell_type": "code",
   "execution_count": 9,
   "id": "82ba39b6-5add-4a0b-9f22-d69dcb4a8518",
   "metadata": {},
   "outputs": [
    {
     "data": {
      "text/plain": [
       "(25, 2.5, 'tikku', (3+4j), True)"
      ]
     },
     "execution_count": 9,
     "metadata": {},
     "output_type": "execute_result"
    }
   ],
   "source": [
    "\"\"\"Similar to lists, tuples can hold string, float, int, bool and complex numbers ec cetera\n",
    "However, unlike lists, tuples are immutable.\"\"\"\n",
    "tuple = (25, 2.5, \"tikku\", 3+4j, True)\n",
    "tuple\n",
    "#the ouput is the example of a tuple.\n"
   ]
  },
  {
   "cell_type": "code",
   "execution_count": 5,
   "id": "c95943dd-c3d2-425b-be05-765e41b57a5c",
   "metadata": {},
   "outputs": [
    {
     "data": {
      "text/plain": [
       "(float, float)"
      ]
     },
     "execution_count": 5,
     "metadata": {},
     "output_type": "execute_result"
    }
   ],
   "source": [
    "\"\"\"float is a decimal number, which can be positive or negative.\"\"\"\n",
    "a = 12.5\n",
    "b = -12.5\n",
    "type(a), type(b)\n",
    "#the output confirms that variable a and b are the float."
   ]
  },
  {
   "cell_type": "code",
   "execution_count": 6,
   "id": "c73d3f07-7095-4e2d-8fc3-89e937f6aec6",
   "metadata": {},
   "outputs": [
    {
     "data": {
      "text/plain": [
       "(int, int)"
      ]
     },
     "execution_count": 6,
     "metadata": {},
     "output_type": "execute_result"
    }
   ],
   "source": [
    "\"\"\"int (integer) is a whole number without decimals. it can be positive or negative.\"\"\"\n",
    "a = 36565\n",
    "b = 44654\n",
    "type(a), type(b)\n",
    "#the output confirms that variable a and b are the int."
   ]
  },
  {
   "cell_type": "markdown",
   "id": "88e80eca-e149-44b2-a6dd-20cd471ca0d7",
   "metadata": {},
   "source": [
    "Question 2.What will be the data type of the given variable.\n",
    "\n",
    "(i)var1 = ‘ ‘ - this is a string with a whitespace,the value assigned to var1 is an empty string.\n",
    "\n",
    "(ii)var2 = ‘[ DS , ML , Python]’ - this a string, as the character is inside single quotes (' ') marks.\n",
    "\n",
    "(iii)var3 = [ ‘DS’ , ’ML’ , ‘Python’ ] - this is a list.\n",
    "\n",
    "(iv)var4 = 1 - var4 is assigned to an int. "
   ]
  },
  {
   "cell_type": "markdown",
   "id": "a9dde577-41d6-4474-bbc7-7c120acf4189",
   "metadata": {},
   "source": [
    "Question 3. Explain the use of the following operators using an example:\n",
    "\n",
    "(i) /\n",
    "\n",
    "(ii) % \n",
    "\n",
    "(iii) //\n",
    "\n",
    "(iv) **"
   ]
  },
  {
   "cell_type": "code",
   "execution_count": 7,
   "id": "4a1e10fc-4514-4347-8e0d-ba3e4ceff5f5",
   "metadata": {},
   "outputs": [
    {
     "data": {
      "text/plain": [
       "2.0"
      ]
     },
     "execution_count": 7,
     "metadata": {},
     "output_type": "execute_result"
    }
   ],
   "source": [
    "\"\"\" \"/\" is a division operator.\"\"\"\n",
    "a = 12/6\n",
    "a\n",
    "#output shows the result of the divison operator"
   ]
  },
  {
   "cell_type": "code",
   "execution_count": 8,
   "id": "1e8cdb99-01b6-4fdb-be3c-05ba8b09f3b1",
   "metadata": {},
   "outputs": [
    {
     "data": {
      "text/plain": [
       "1"
      ]
     },
     "execution_count": 8,
     "metadata": {},
     "output_type": "execute_result"
    }
   ],
   "source": [
    "\"\"\" \"%\" is a modulus operator. It returns the remainder.\"\"\"\n",
    "a = 4%3\n",
    "a \n",
    "#4/3 leaves 1 as a remainder "
   ]
  },
  {
   "cell_type": "code",
   "execution_count": 10,
   "id": "ca02a0e6-d4a1-40b8-a207-eceacf618ef1",
   "metadata": {},
   "outputs": [
    {
     "data": {
      "text/plain": [
       "10"
      ]
     },
     "execution_count": 10,
     "metadata": {},
     "output_type": "execute_result"
    }
   ],
   "source": [
    "\"\"\" \"//\" is a floor divison operator.\n",
    "it divides two numbers and rounds the result down to the nearest integer\"\"\"\n",
    "a = 21//2\n",
    "a\n",
    "#the nearest whole number for the a is 10, as output shows."
   ]
  },
  {
   "cell_type": "code",
   "execution_count": 11,
   "id": "bd5ebc01-3c82-4734-b762-3b1d93c5ef8b",
   "metadata": {},
   "outputs": [
    {
     "data": {
      "text/plain": [
       "8"
      ]
     },
     "execution_count": 11,
     "metadata": {},
     "output_type": "execute_result"
    }
   ],
   "source": [
    "\"\"\" \"**\" is Exponentiation operator, it works as following\"\"\"\n",
    "a = 2**3\n",
    "a\n",
    "#2**3 is same as 2*2*2, producing 8 as a result"
   ]
  },
  {
   "cell_type": "markdown",
   "id": "43ab2db8-879e-4520-a322-98ee988a25f7",
   "metadata": {},
   "source": [
    "Create a list of length 10 of your choice containing multiple types of data. Using for loop print the element and its data type."
   ]
  },
  {
   "cell_type": "code",
   "execution_count": 1,
   "id": "e14102a5-d2ec-4f72-bc5e-57d28ffe0b73",
   "metadata": {},
   "outputs": [],
   "source": [
    "list = [10, 10.5, True, False, (1,2,3), 9-4j, \"tikku\",{\"name\":\"tikku\"},None,[4,5,6]]"
   ]
  },
  {
   "cell_type": "code",
   "execution_count": 2,
   "id": "e93e25db-57be-4fe6-9626-565c177c3942",
   "metadata": {},
   "outputs": [
    {
     "name": "stdout",
     "output_type": "stream",
     "text": [
      "<class 'int'>\n",
      "<class 'float'>\n",
      "<class 'bool'>\n",
      "<class 'bool'>\n",
      "<class 'tuple'>\n",
      "<class 'complex'>\n",
      "<class 'str'>\n",
      "<class 'dict'>\n",
      "<class 'NoneType'>\n",
      "<class 'list'>\n"
     ]
    }
   ],
   "source": [
    "for i in list:\n",
    "    print(type(i))\n",
    "    "
   ]
  },
  {
   "cell_type": "markdown",
   "id": "2bfa03dd-28c4-4980-8f69-e7915cec9b86",
   "metadata": {},
   "source": [
    "Using a while loop, verify if the number A is purely divisible by number B and if so then how many times it can be divisible."
   ]
  },
  {
   "cell_type": "code",
   "execution_count": 5,
   "id": "deaee71b-71f2-480f-b483-d6a28e0f010a",
   "metadata": {},
   "outputs": [
    {
     "name": "stdin",
     "output_type": "stream",
     "text": [
      "enter a 15\n",
      "enter b 4\n"
     ]
    },
    {
     "name": "stdout",
     "output_type": "stream",
     "text": [
      "not divisable\n"
     ]
    }
   ],
   "source": [
    "a = int(input(\"enter a\"))\n",
    "b = int(input(\"enter b\"))\n",
    "count = 0\n",
    "\n",
    "while a%b == 0:\n",
    "    a = a//b\n",
    "    count += 1\n",
    "    \n",
    "if count>0:\n",
    "    print(f\"can be divided {count} times\")\n",
    "else:\n",
    "    print(\"not divisable\")\n",
    "    "
   ]
  },
  {
   "cell_type": "markdown",
   "id": "290c402d-b29f-40ee-bd49-c28d6e69be3c",
   "metadata": {},
   "source": [
    "Create a list containing 25 int type data. Using for loop and if-else condition print if the element is divisible by 3 or not.\n",
    "\n",
    "\n"
   ]
  },
  {
   "cell_type": "code",
   "execution_count": 8,
   "id": "fad75444-7ed6-4b9d-b71d-f6f85bce5065",
   "metadata": {},
   "outputs": [
    {
     "name": "stdout",
     "output_type": "stream",
     "text": [
      "1 is not divisible by 3\n",
      "2 is not divisible by 3\n",
      "3 is divisible by 3\n",
      "4 is not divisible by 3\n",
      "5 is not divisible by 3\n",
      "6 is divisible by 3\n",
      "7 is not divisible by 3\n",
      "8 is not divisible by 3\n",
      "9 is divisible by 3\n",
      "10 is not divisible by 3\n",
      "11 is not divisible by 3\n",
      "12 is divisible by 3\n",
      "13 is not divisible by 3\n",
      "14 is not divisible by 3\n",
      "15 is divisible by 3\n",
      "16 is not divisible by 3\n",
      "17 is not divisible by 3\n",
      "18 is divisible by 3\n",
      "19 is not divisible by 3\n",
      "20 is not divisible by 3\n",
      "21 is divisible by 3\n",
      "22 is not divisible by 3\n",
      "23 is not divisible by 3\n",
      "24 is divisible by 3\n",
      "25 is not divisible by 3\n"
     ]
    }
   ],
   "source": [
    "list = (range(1,26))\n",
    "for int in list:\n",
    "    if int%3 == 0:\n",
    "        print(f\"{int} is divisible by 3\")\n",
    "    else:\n",
    "        print(f\"{int} is not divisible by 3\")"
   ]
  },
  {
   "cell_type": "markdown",
   "id": "8a234574-5c9c-4530-82e4-35f7b5170aaf",
   "metadata": {},
   "source": [
    "What do you understand about mutable and immutable data types? Give examples for both showing this property."
   ]
  },
  {
   "cell_type": "code",
   "execution_count": 13,
   "id": "8b08b043-0d27-4fff-abc9-f40bc40477cd",
   "metadata": {},
   "outputs": [
    {
     "name": "stdout",
     "output_type": "stream",
     "text": [
      "[4, 2, 3]\n"
     ]
    },
    {
     "data": {
      "text/plain": [
       "{'name': 'tikku', 'age': 27}"
      ]
     },
     "execution_count": 13,
     "metadata": {},
     "output_type": "execute_result"
    }
   ],
   "source": [
    "\"\"\"Mutable Data Types:\n",
    "values can be modified after they are created. one can directly change the content of a \n",
    "mutable object without creating a new one. Example- list and dictionaries\"\"\"\n",
    "\n",
    "list = [1, 2, 3]\n",
    "list[0] = 4  # Modifying the element at index 0\n",
    "print(list)  \n",
    "# Output: [4, 2, 3]\n",
    "\n",
    "dict = {\"name\":\"tikku\", \"age\":00}\n",
    "dict [\"age\"] = 27 \n",
    "#correcting the value of the \"age\" key.\n",
    "dict\n"
   ]
  },
  {
   "cell_type": "code",
   "execution_count": 15,
   "id": "502f9a62-8534-4c62-87a6-82b631d3f6d2",
   "metadata": {},
   "outputs": [
    {
     "name": "stdout",
     "output_type": "stream",
     "text": [
      "my name is\n",
      "my name istikku\n"
     ]
    },
    {
     "ename": "TypeError",
     "evalue": "'tuple' object does not support item assignment",
     "output_type": "error",
     "traceback": [
      "\u001b[0;31m---------------------------------------------------------------------------\u001b[0m",
      "\u001b[0;31mTypeError\u001b[0m                                 Traceback (most recent call last)",
      "Cell \u001b[0;32mIn[15], line 12\u001b[0m\n\u001b[1;32m      9\u001b[0m \u001b[38;5;28mprint\u001b[39m(str2)\n\u001b[1;32m     11\u001b[0m tuple1 \u001b[38;5;241m=\u001b[39m (\u001b[38;5;241m1\u001b[39m,\u001b[38;5;241m2\u001b[39m,\u001b[38;5;241m3\u001b[39m)\n\u001b[0;32m---> 12\u001b[0m \u001b[43mtuple1\u001b[49m\u001b[43m[\u001b[49m\u001b[38;5;241;43m0\u001b[39;49m\u001b[43m]\u001b[49m \u001b[38;5;241m=\u001b[39m \u001b[38;5;241m0\u001b[39m\n\u001b[1;32m     13\u001b[0m \u001b[38;5;66;03m#trying to modify the value at 0th index will raise an error\u001b[39;00m\n\u001b[1;32m     14\u001b[0m tuple1\n",
      "\u001b[0;31mTypeError\u001b[0m: 'tuple' object does not support item assignment"
     ]
    }
   ],
   "source": [
    "\"\"\"Immutable Data Types:\n",
    "values which cannot be modified once they are created. Any attempt to modify object \n",
    "results in the creation of a new object with the modified value, while the original \n",
    "object remains unchanged.Example- strings and tuple.\"\"\"\n",
    "\n",
    "str1 = \"my name is\"\n",
    "str2 = str1+ \"tikku\"\n",
    "print(str1)\n",
    "print(str2)\n",
    "\n",
    "tuple1 = (1,2,3)\n",
    "tuple1[0] = 0\n",
    "#trying to modify the value at 0th index will raise an error\n",
    "tuple1\n"
   ]
  },
  {
   "cell_type": "code",
   "execution_count": null,
   "id": "01a6ff23-20b7-4b23-9048-8d14a9779601",
   "metadata": {},
   "outputs": [],
   "source": []
  }
 ],
 "metadata": {
  "kernelspec": {
   "display_name": "Python 3 (ipykernel)",
   "language": "python",
   "name": "python3"
  },
  "language_info": {
   "codemirror_mode": {
    "name": "ipython",
    "version": 3
   },
   "file_extension": ".py",
   "mimetype": "text/x-python",
   "name": "python",
   "nbconvert_exporter": "python",
   "pygments_lexer": "ipython3",
   "version": "3.10.8"
  }
 },
 "nbformat": 4,
 "nbformat_minor": 5
}
