{
 "cells": [
  {
   "cell_type": "markdown",
   "id": "c5673fec-0778-4d3b-816c-d9519b5be815",
   "metadata": {},
   "source": [
    "**Q1. What is an API? Give an example, where an API is used in real life.**"
   ]
  },
  {
   "cell_type": "markdown",
   "id": "a2a80fc6-4c99-489e-adcd-f2a0445c6896",
   "metadata": {},
   "source": [
    "API stands for **Application Programming Interface.** It is a set of protocols that allows one software application to interact with and make use of the functions and data of another software application.\n",
    "\n",
    "Some relvant examples are provided below-\n",
    "\n",
    "1. Apps like Google Maps use APIs to provide location data, directions, and real-time traffic information to users.\n",
    "\n",
    "2. Retail websites often use APIs to integrate recommendation engines, like Amazon's Product Advertising API, to suggest products to users based on their browsing and purchase history.\n",
    "\n",
    "3. Devices in smart homes and IoT applications use APIs to communicate and exchange data with each other and with user interfaces.\n",
    "\n",
    "4. Unified Payments Interface (UPI) heavily relies on APIs to enable seamless transactions between different banks and payment service providers."
   ]
  },
  {
   "cell_type": "markdown",
   "id": "b56150a9-eb1c-458f-8b64-3c7f22bad3ca",
   "metadata": {},
   "source": [
    "**Q2. Give advantages and disadvantages of using API.** "
   ]
  },
  {
   "cell_type": "markdown",
   "id": "db6035ff-c998-41b9-b9af-e0b68f6c5c50",
   "metadata": {},
   "source": [
    "**Advantages of Using APIs-**\n",
    "\n",
    "1. APIs enable different software systems and services to work together, allowing seamless integration and communication between applications. This is essential for creating complex, multifunctional systems.\n",
    "\n",
    "2. Developers can leverage existing APIs to speed up the development process. \n",
    "\n",
    "3. APIs allow businesses to scale their services more easily. As demand grows, new applications can be built on top of existing APIs, expanding the reach and capabilities of a product or service.\n",
    "\n",
    "**Disadvantages of Using APIs-**\n",
    "\n",
    "1. Poorly secured APIs can be vulnerable to hacking and data breaches.\n",
    "\n",
    "2. Since APIs evolve over time, it requires developers to adapt to new versions. Managing backward compatibility and ensuring a smooth transition can be challenging.\n",
    "\n",
    "3. Integrating multiple APIs into an application may add complexity to the codebase, debugging and production of such codebase will requires more expertise. It can add cost and time to the overall product or service."
   ]
  },
  {
   "cell_type": "markdown",
   "id": "8d2b28bf-1c48-4f53-8878-0fd04c039d44",
   "metadata": {},
   "source": [
    "**Q3. What is a Web API? Differentiate between API and Web API.**"
   ]
  },
  {
   "cell_type": "markdown",
   "id": "d9f38340-b004-4210-aa89-3b301d7c0a5d",
   "metadata": {},
   "source": [
    "Web API stands for Web Application Programming Interface, is a set of protocols that allows one software application to interact with and make use of the functions and data of another software application over the internet. It defines the methods and data formats that applications uses to exchange information. \n",
    "\n",
    "**Difference between API and Web API-**\n",
    "\n",
    "1. API is a set of protocols that allows one software application to interact with and make use of the functions and data of another software application. But, Web APIs are specifically about interactions that take place over the web or internet using HTTP or other web protocols.\n",
    "\n",
    "2. APIs uses communication methods such as function calls, libraries, or direct code integration within the same programming environment or system. But Web APIs depends on web-based communication protocols, such as HTTP to send and receive data. This makes Web APIs more suitable for internet-based interactions."
   ]
  },
  {
   "cell_type": "markdown",
   "id": "cd4d3325-91d3-44ef-9661-bb02fac17eb8",
   "metadata": {},
   "source": [
    "**Q4. Explain REST and SOAP Architecture. Mention shortcomings of SOAP.**"
   ]
  },
  {
   "cell_type": "markdown",
   "id": "7cca2fa4-59bd-44db-b85a-db98e725cb56",
   "metadata": {},
   "source": [
    "REST (Representational State Transfer) and SOAP (Simple Object Access Protocol) are two different architectural styles for designing web services.\n",
    "\n",
    "**REST (Representational State Transfer)**\n",
    "\n",
    "1. It is a style for designing networked applications. It is not a protocol but a set of principles for creating web services.\n",
    "\n",
    "2. RESTful services uses standard HTTP methods ie- GET, POST, PUT, DELETE to perform operations on resources.\n",
    "\n",
    "3. There is no session state stored on the server between requests. So, each request from a client to a server must contain all the information needed to understand and process the request.\n",
    "\n",
    "\n",
    "**SOAP (Simple Object Access Protocol)**\n",
    "\n",
    "1. SOAP is a protocol for exchanging structured information in the implementation of web services. It defines a strict message format.\n",
    "\n",
    "2. SOAP messages are typically sent via HTTP, but they can also be transmitted over other protocols like SMTP and TCP.\n",
    "\n",
    "3. SOAP is considered more complex compared to REST due to its strict message format and standards. \n",
    "\n",
    "\n",
    "**Shortcomings of SOAP**\n",
    "\n",
    "1. SOAP is complex, in terms of message structure and the underlying standards. This can make it more challenging to implement and debug.\n",
    "\n",
    "2. SOAP messages tend to be larger than equivalent RESTful messages.\n",
    "\n",
    "3. SOAP messages are less human-readable compared to JSON, which is commonly used in RESTful services. This makes debugging and manual inspection more difficult."
   ]
  },
  {
   "cell_type": "markdown",
   "id": "3bdd79d0-c630-448c-9392-a8be0ac6389d",
   "metadata": {},
   "source": [
    "**Q5. Differentiate between REST and SOAP.**"
   ]
  },
  {
   "cell_type": "markdown",
   "id": "6747711d-fc5e-4eb2-8f0b-dacba502ba53",
   "metadata": {},
   "source": [
    "Differentiation between REST and SOAP are as follows-\n",
    "\n",
    "1. REST uses standard HTTP, SOAP is a protocol for exchanging structured information in web services.\n",
    "\n",
    "2. REST typically uses lightweight data formats like JSON or XML, SOAP messages are typically larger and more complex due to their XML-based structure.\n",
    "\n",
    "3.  REST is stateless, i.e.- each request from a client to a server must contain all the information needed to understand and process the request. SOAP can support stateful communication."
   ]
  },
  {
   "cell_type": "code",
   "execution_count": null,
   "id": "4f738caf-b6f1-4e7a-8acc-c5082cb4fc45",
   "metadata": {},
   "outputs": [],
   "source": []
  }
 ],
 "metadata": {
  "kernelspec": {
   "display_name": "Python 3 (ipykernel)",
   "language": "python",
   "name": "python3"
  },
  "language_info": {
   "codemirror_mode": {
    "name": "ipython",
    "version": 3
   },
   "file_extension": ".py",
   "mimetype": "text/x-python",
   "name": "python",
   "nbconvert_exporter": "python",
   "pygments_lexer": "ipython3",
   "version": "3.10.8"
  }
 },
 "nbformat": 4,
 "nbformat_minor": 5
}
