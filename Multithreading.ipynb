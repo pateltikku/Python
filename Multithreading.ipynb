{
 "cells": [
  {
   "cell_type": "markdown",
   "id": "623ba7ee-844a-443f-8f3b-3177d6a546a7",
   "metadata": {},
   "source": [
    "Q1. What is multithreading in python? Why is it used? Name the module used to handle threads in python."
   ]
  },
  {
   "cell_type": "markdown",
   "id": "58a37400-dcd8-4b76-b06e-8f0aafbb38fe",
   "metadata": {},
   "source": [
    "Multithreading in Python is a method that enables to run multiple tasks within a program at the same time. These tasks, called threads, share the program's memory and can work simultaneously. This helps the programs to run faster, especially when there are tasks that can be done at the same time without interfering with each other.\n",
    "\n",
    "Why it is used?\n",
    "1. Multithreading allows to perform tasks in parallel, making better use of multi-core processors and potentially speeding up the execution of CPU-bound operations.\n",
    "\n",
    "2. It can be used to manage concurrent access to shared resources, such as databases or files, without blocking the entire program.\n",
    "\n",
    "Module for Handling Threads in Python-\n",
    "In order to use threading in python \"threading\" module is used. "
   ]
  },
  {
   "cell_type": "markdown",
   "id": "ada36717-cd43-459b-9a8d-c479b43b774e",
   "metadata": {},
   "source": [
    "Q2. Why threading module used? Write the use of the following functions:\n",
    "\n",
    "1. activeCount()\n",
    "2. currentThread()\n",
    "3. enumerate()"
   ]
  },
  {
   "cell_type": "markdown",
   "id": "f5f79dad-e83d-4766-bac4-d6833878fd40",
   "metadata": {},
   "source": [
    "The threading module in is used for working with threads. It provides a high-level interface for creating and managing threads in a program."
   ]
  },
  {
   "cell_type": "markdown",
   "id": "51f41747-a863-4753-a70b-18ede3983abf",
   "metadata": {},
   "source": [
    "1. activeCount():\n",
    "\n",
    "Use: This function is used to get the current number of Thread objects currently alive (threads that have been created and not yet terminated)\n",
    "\n",
    "A relevant example is demostrated below-"
   ]
  },
  {
   "cell_type": "code",
   "execution_count": 1,
   "id": "a33951fb-e783-469a-814d-0cd088692de3",
   "metadata": {},
   "outputs": [],
   "source": [
    "import threading\n",
    "\n",
    "def func():\n",
    "    pass\n",
    "\n",
    "thread1 = threading.Thread(target = func)\n",
    "thread2 = threading.Thread(target = func)\n",
    "\n",
    "thread1.start()\n",
    "thread2.start()"
   ]
  },
  {
   "cell_type": "code",
   "execution_count": 2,
   "id": "99de108f-e1dc-470d-b940-933c97f1c052",
   "metadata": {},
   "outputs": [
    {
     "name": "stdout",
     "output_type": "stream",
     "text": [
      "Active threads:  8\n"
     ]
    }
   ],
   "source": [
    "active = threading.active_count()\n",
    "print(\"Active threads: \" ,active)"
   ]
  },
  {
   "cell_type": "markdown",
   "id": "030bacd5-97fe-4403-8d75-fce4460bf23b",
   "metadata": {},
   "source": [
    "2. currentThread()\n",
    "Use: This function returns the current Thread object, representing the thread from which it is called. It is useful for obtaining information about the currently executing thread.\n",
    "\n",
    "A relevant example is demostrated below-"
   ]
  },
  {
   "cell_type": "code",
   "execution_count": 3,
   "id": "7acc8442-4251-44f6-95bd-4ebffebbbf26",
   "metadata": {},
   "outputs": [],
   "source": [
    "import threading\n",
    "\n",
    "def func1():\n",
    "    current_thread = threading.current_thread()\n",
    "    print(\"current thread's name is: \", current_thread.name)"
   ]
  },
  {
   "cell_type": "code",
   "execution_count": 4,
   "id": "07180acf-242c-4296-a541-21dcfdfe5f09",
   "metadata": {},
   "outputs": [
    {
     "name": "stdout",
     "output_type": "stream",
     "text": [
      "current thread's name is:  Thread-7 (func1)\n"
     ]
    }
   ],
   "source": [
    "thread = threading.Thread(target = func1)\n",
    "thread.start()"
   ]
  },
  {
   "cell_type": "markdown",
   "id": "8a99de98-7b55-4092-adc2-568c2c5403f1",
   "metadata": {},
   "source": [
    "3. enumerate()\n",
    "Use: The enumerate() function returns a list of all Thread objects currently alive, including the main thread. It can be helpful for iterating through and inspecting all active threads.\n",
    "\n",
    "A relevant example is demostrated below-"
   ]
  },
  {
   "cell_type": "code",
   "execution_count": 5,
   "id": "28b5fbff-c719-4957-85af-45296bfbc6a8",
   "metadata": {},
   "outputs": [],
   "source": [
    "import threading\n",
    "\n",
    "def func2():\n",
    "    pass\n",
    "\n",
    "thread_1 = threading.Thread(target = func2)\n",
    "thread_2 = threading.Thread(target = func2)\n",
    "\n",
    "thread_1.start()\n",
    "thread_2.start()"
   ]
  },
  {
   "cell_type": "code",
   "execution_count": 6,
   "id": "836eb195-5ac6-41be-9405-ab8cd4f21386",
   "metadata": {},
   "outputs": [
    {
     "name": "stdout",
     "output_type": "stream",
     "text": [
      "Active threads: \n",
      "Thread-7 (func1)\n",
      "Thread-7 (func1)\n",
      "Thread-7 (func1)\n",
      "Thread-7 (func1)\n",
      "Thread-7 (func1)\n",
      "Thread-7 (func1)\n",
      "Thread-7 (func1)\n",
      "Thread-7 (func1)\n"
     ]
    }
   ],
   "source": [
    "threading_list = threading.enumerate()\n",
    "\n",
    "print(\"Active threads: \")\n",
    "for i in threading_list:\n",
    "    print(thread.name)"
   ]
  },
  {
   "cell_type": "markdown",
   "id": "6b3736cd-c777-48e6-a6ea-3b57ebf81d91",
   "metadata": {},
   "source": [
    "3. Explain the following functions:\n",
    "\n",
    "1. run()\n",
    "2. start()\n",
    "3. join()\n",
    "4.  isAlive()"
   ]
  },
  {
   "cell_type": "markdown",
   "id": "3dda4391-3e56-4ff8-a0f5-ebd11c1c10fa",
   "metadata": {},
   "source": [
    "1. run():\n",
    "\n",
    "Use: The run() method is not typically called directly by the programmer. When a thread starts using the start() method, it internally calls the run() method of the thread's target function or callable object.\n",
    "\n",
    "A relevant example is demonstrated below-"
   ]
  },
  {
   "cell_type": "code",
   "execution_count": 7,
   "id": "a045c30d-062b-493a-8d1f-fa0c8a6208ac",
   "metadata": {},
   "outputs": [],
   "source": [
    "import threading\n",
    "\n",
    "class mythread(threading.Thread):\n",
    "    def run(self):\n",
    "        print(\"Thread is running\")"
   ]
  },
  {
   "cell_type": "code",
   "execution_count": 8,
   "id": "3fdcb031-d872-4354-85d3-699b11a20a35",
   "metadata": {},
   "outputs": [
    {
     "name": "stdout",
     "output_type": "stream",
     "text": [
      "Thread is running\n"
     ]
    }
   ],
   "source": [
    "a = mythread()\n",
    "a.start()"
   ]
  },
  {
   "cell_type": "markdown",
   "id": "7a2be9d7-d631-48af-9ba7-bbb07626397c",
   "metadata": {},
   "source": [
    "2. start():\n",
    "\n",
    "Use: The start() method is used to initiate the execution of a thread. It creates a new thread and begins executing the run() method of the target function or callable object in that thread.\n",
    "\n",
    "A relevant example is demonstrated below- "
   ]
  },
  {
   "cell_type": "code",
   "execution_count": 9,
   "id": "29855c2e-fde1-4d3c-9135-8905716fef25",
   "metadata": {},
   "outputs": [],
   "source": [
    "import threading\n",
    "\n",
    "def func3():\n",
    "    print(\"Thread is running\")"
   ]
  },
  {
   "cell_type": "code",
   "execution_count": 10,
   "id": "4c4d22fe-50c2-4029-a30d-c93a44a7385d",
   "metadata": {},
   "outputs": [
    {
     "name": "stdout",
     "output_type": "stream",
     "text": [
      "Thread is running\n"
     ]
    }
   ],
   "source": [
    "thread = threading.Thread(target = func3)\n",
    "thread.start()"
   ]
  },
  {
   "cell_type": "markdown",
   "id": "2749679f-4fe6-4c16-b79b-26c48d5104cf",
   "metadata": {},
   "source": [
    "3. join():\n",
    "\n",
    "Use: The join() method is used to wait for a thread to complete its execution before allowing the main program to continue. It's often used to ensure that the main program doesn't proceed until the thread has finished its task.\n",
    "\n",
    "A relevant example is demonstrated below-"
   ]
  },
  {
   "cell_type": "code",
   "execution_count": 11,
   "id": "10f9f768-2389-40ad-9331-61fb64ed9642",
   "metadata": {},
   "outputs": [],
   "source": [
    "import threading\n",
    "\n",
    "def func4():\n",
    "    print(\"Thread is running\")"
   ]
  },
  {
   "cell_type": "code",
   "execution_count": 12,
   "id": "aee02ecb-0caa-48b3-b90c-98f442611ebf",
   "metadata": {},
   "outputs": [
    {
     "name": "stdout",
     "output_type": "stream",
     "text": [
      "Thread is running\n",
      "main program continues to execute!\n"
     ]
    }
   ],
   "source": [
    "thread_3 = threading.Thread(target = func4)\n",
    "thread_3.start()\n",
    "\n",
    "thread_3.join()\n",
    "\n",
    "print(\"main program continues to execute!\")"
   ]
  },
  {
   "cell_type": "markdown",
   "id": "cf9cecc7-197c-46ac-a44a-656e9bcae1b1",
   "metadata": {},
   "source": [
    "4. isAlive():\n",
    "\n",
    "Use: The isAlive() method is used to check whether a thread is currently running or still active. It returns True if the thread is running and False if it has finished its execution or has not yet been started.\n",
    "\n",
    "A relevant example is demonstrated below-"
   ]
  },
  {
   "cell_type": "code",
   "execution_count": 13,
   "id": "4a6fed3d-2ff4-4f55-a765-1636fc1709b6",
   "metadata": {},
   "outputs": [],
   "source": [
    "import threading\n",
    "import time\n",
    "\n",
    "def func5():\n",
    "    time.sleep(2)\n",
    "    print(\"thread completed\")"
   ]
  },
  {
   "cell_type": "code",
   "execution_count": 14,
   "id": "c1c864d7-13d0-40dd-873a-9dee111030ea",
   "metadata": {},
   "outputs": [
    {
     "name": "stdout",
     "output_type": "stream",
     "text": [
      "Thread is running\n"
     ]
    }
   ],
   "source": [
    "thread_4 = threading.Thread(target = func5)\n",
    "thread_4.start()\n",
    "\n",
    "if thread_4.is_alive():\n",
    "    print(\"Thread is running\")\n",
    "else:\n",
    "    print(\"Thread has finished!\")"
   ]
  },
  {
   "cell_type": "markdown",
   "id": "cd79ff11-60e7-480f-b7aa-472f9d0e7775",
   "metadata": {},
   "source": [
    "Q4.Write a python program to create two threads. Thread one must print the list of squares and thread two must print the list of cubes."
   ]
  },
  {
   "cell_type": "code",
   "execution_count": 16,
   "id": "57fec0f1-3f0d-4819-b758-dbcc364abe23",
   "metadata": {},
   "outputs": [],
   "source": [
    "import threading\n",
    "\n",
    "def squares(numbers):\n",
    "    for i in numbers:\n",
    "        square = i**2\n",
    "        print(f\"sqaure of {i} is {square}\")\n",
    "        \n",
    "def cubes(numbers):\n",
    "    for i in numbers:\n",
    "        cube = i**3\n",
    "        print(f\"cube of {i} is {cube}\")"
   ]
  },
  {
   "cell_type": "code",
   "execution_count": 17,
   "id": "8aeaee6f-4ac4-476e-80b6-e90396c07007",
   "metadata": {},
   "outputs": [],
   "source": [
    "if __name__ == \"__main__\":\n",
    "    numbers = [1,2,3,4,5,6,7,8,9,10]"
   ]
  },
  {
   "cell_type": "code",
   "execution_count": 20,
   "id": "a9dc2879-6517-4c12-b616-76bd6778d8de",
   "metadata": {},
   "outputs": [
    {
     "name": "stdout",
     "output_type": "stream",
     "text": [
      "sqaure of 1 is 1\n",
      "sqaure of 2 is 4\n",
      "sqaure of 3 is 9\n",
      "sqaure of 4 is 16\n",
      "sqaure of 5 is 25\n",
      "sqaure of 6 is 36\n",
      "sqaure of 7 is 49\n",
      "sqaure of 8 is 64\n",
      "sqaure of 9 is 81\n",
      "sqaure of 10 is 100\n",
      "cube of 1 is 1\n",
      "cube of 2 is 8\n",
      "cube of 3 is 27\n",
      "cube of 4 is 64\n",
      "cube of 5 is 125\n",
      "cube of 6 is 216\n",
      "cube of 7 is 343\n",
      "cube of 8 is 512\n",
      "cube of 9 is 729\n",
      "cube of 10 is 1000\n"
     ]
    }
   ],
   "source": [
    "square_thread = threading.Thread(target = squares, args = (numbers,))\n",
    "cube_thread = threading.Thread(target= cubes,args = (numbers,))\n",
    "\n",
    "square_thread.start()\n",
    "cube_thread.start()\n",
    "\n",
    "square_thread.join()\n",
    "cube_thread.join()"
   ]
  },
  {
   "cell_type": "markdown",
   "id": "17db210e-bd72-44f5-bd8d-8fc20fc22ee7",
   "metadata": {},
   "source": [
    "5. State advantages and disadvantages of multithreading."
   ]
  },
  {
   "cell_type": "markdown",
   "id": "79848319-d535-48a6-882b-a7300414b3f8",
   "metadata": {},
   "source": [
    "Advantages of Multithreading-\n",
    "\n",
    "1. One of the primary advantages of multithreading is improved performance, especially on multi-core processors. Multiple threads can execute tasks concurrently, allowing the program to make better use of available CPU cores.\n",
    "\n",
    "2. Multithreading can keep an application responsive, by running time-consuming tasks in separate threads.\n",
    "\n",
    "3. Threads in the same process share the same memory space, which makes it easier for them to share data and resources. This can be useful for applications that need to coordinate or communicate between different parts of the program.\n",
    "\n",
    "4. Multithreading allows developers to break down a complex task into smaller subtasks that can be executed concurrently. This can lead to more efficient code and faster execution times.\n",
    "\n",
    "5. Multithreading provides a way to scale code by adding more threads to handle additional workloads."
   ]
  },
  {
   "cell_type": "markdown",
   "id": "811a8424-75f8-4a0e-b494-bcd02493913e",
   "metadata": {},
   "source": [
    "Disadvantages of Multithreading-\n",
    "\n",
    "1. Multithreading can introduce complexity into software development. Managing threads, handling synchronization issues,etc.\n",
    "\n",
    "2. Race conditions occur when multiple threads access shared resources concurrently, leading to unpredictable and often erroneous behavior. Synchronizing access to shared data can be complex and may introduce performance issues.\n",
    "\n",
    "3. Deadlocks can occur when two or more threads are unable to proceed because they are each waiting for a resource that the other thread holds.\n",
    "\n",
    "4. Debugging multithreaded applications can be more challenging than single-threaded ones. Issues may not be easily reproducible and can be hard to diagnose.\n",
    "\n",
    "5. Creating and managing threads consumes system resources, such as memory. An excessive number of threads can lead to resource exhaustion and decreased overall system performance.\n",
    "\n",
    "6. Multithreading behavior can vary across different operating systems and platforms. Code that works correctly on one platform may behave differently on another."
   ]
  },
  {
   "cell_type": "markdown",
   "id": "5ddad507-2345-4c5b-8587-3d80d5a0ebe7",
   "metadata": {},
   "source": [
    "6. Explain deadlocks and race conditions."
   ]
  },
  {
   "cell_type": "markdown",
   "id": "aaf9dd2b-9302-40d9-9e4f-b6a6334f635d",
   "metadata": {},
   "source": [
    "Deadlocks and race conditions are related issues that can occur in multithreaded or multi-process applications.\n",
    "\n",
    "1. Deadlocks:\n",
    "\n",
    "Deadlock is a situation where two or more threads or processes are stuck in a circular wait state, unable to proceed with their execution because each is waiting for a resource held by another.\n",
    "                \n",
    "Deadlocks are caused by multiple threads or processes competing for a finite set of resources. \n",
    "\n",
    "2. Race Condition-\n",
    "\n",
    "A race condition is a situation where the behavior of a program depends on the relative timing of events. It occurs when multiple threads or processes access a shared resource concurrently without proper synchronization.\n",
    "\n",
    "Race conditions are caused by concurrent access to shared resources without proper synchronization. "
   ]
  },
  {
   "cell_type": "code",
   "execution_count": null,
   "id": "a95f19b9-ce4b-4762-a239-a300f9764dd2",
   "metadata": {},
   "outputs": [],
   "source": []
  }
 ],
 "metadata": {
  "kernelspec": {
   "display_name": "Python 3 (ipykernel)",
   "language": "python",
   "name": "python3"
  },
  "language_info": {
   "codemirror_mode": {
    "name": "ipython",
    "version": 3
   },
   "file_extension": ".py",
   "mimetype": "text/x-python",
   "name": "python",
   "nbconvert_exporter": "python",
   "pygments_lexer": "ipython3",
   "version": "3.10.8"
  }
 },
 "nbformat": 4,
 "nbformat_minor": 5
}
