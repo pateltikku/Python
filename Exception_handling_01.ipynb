{
 "cells": [
  {
   "cell_type": "markdown",
   "id": "7bbb8d4d-1ea5-4340-bc7a-03f738e6975e",
   "metadata": {},
   "source": [
    "Q1. What is Exception in python? Write the differences between Exceptions and Syntax errors."
   ]
  },
  {
   "cell_type": "markdown",
   "id": "e2106418-c15c-4ffd-aa4c-6dca46311267",
   "metadata": {},
   "source": [
    "It is an event that takes place during the exceution of the program, that disrupts the normal flow of the program. This can be handled by appropriate code. \n",
    "\n",
    "Differences between Exceptions and Syntax error-\n",
    "\n",
    "1. Exceptions are typically caused by exceptional conditions that arise during the program's execution, such as dividing by zero, trying to access a file that doesn't exist, or attempting to access an out-of-bounds index in a list. While syntax errors are caused by violations of the Python syntax rules, such as misspelled keywords, missing punctuation, mismatched parentheses or quotes, ec cetera.\n",
    "\n",
    "2. Exceptions can be caught and handled using try and except blocks. However, Syntax errors cannot be caught or handled during runtime because they prevent the program from even starting. They must be fixed by correcting the syntax issues in the code.\n",
    "\n",
    "3. The ZeroDivisionError exception occurs when dividing a number by zero takes place. While, forgetting to put a colon at the end of an if statement will raise syntax error."
   ]
  },
  {
   "cell_type": "markdown",
   "id": "8a0b9b06-2c89-492e-b71c-0489e7767200",
   "metadata": {},
   "source": [
    "Q2. What happens when an exception is not handled? Explain with an example."
   ]
  },
  {
   "cell_type": "markdown",
   "id": "03542152-60ed-4dc4-8e01-82d0d2676f03",
   "metadata": {},
   "source": [
    "When an exception is not handled in a program, it leads to an \"unhandled exception,\" which can cause the program to terminate abruptly and display an error message. A relevant Example is demonstrated below-"
   ]
  },
  {
   "cell_type": "code",
   "execution_count": 1,
   "id": "8ca81bce-02e8-411c-938f-6576fbdbdcd1",
   "metadata": {},
   "outputs": [
    {
     "ename": "ZeroDivisionError",
     "evalue": "division by zero",
     "output_type": "error",
     "traceback": [
      "\u001b[0;31m---------------------------------------------------------------------------\u001b[0m",
      "\u001b[0;31mZeroDivisionError\u001b[0m                         Traceback (most recent call last)",
      "Cell \u001b[0;32mIn[1], line 10\u001b[0m\n\u001b[1;32m      7\u001b[0m n \u001b[38;5;241m=\u001b[39m \u001b[38;5;241m10\u001b[39m \n\u001b[1;32m      8\u001b[0m d \u001b[38;5;241m=\u001b[39m \u001b[38;5;241m0\u001b[39m \n\u001b[0;32m---> 10\u001b[0m result \u001b[38;5;241m=\u001b[39m \u001b[43mdivide\u001b[49m\u001b[43m(\u001b[49m\u001b[43mn\u001b[49m\u001b[43m,\u001b[49m\u001b[43md\u001b[49m\u001b[43m)\u001b[49m\n\u001b[1;32m     11\u001b[0m \u001b[38;5;28;01mreturn\u001b[39;00m result\n",
      "Cell \u001b[0;32mIn[1], line 4\u001b[0m, in \u001b[0;36mdivide\u001b[0;34m(x, y)\u001b[0m\n\u001b[1;32m      3\u001b[0m \u001b[38;5;28;01mdef\u001b[39;00m \u001b[38;5;21mdivide\u001b[39m(x,y):\n\u001b[0;32m----> 4\u001b[0m     result \u001b[38;5;241m=\u001b[39m x\u001b[38;5;241m/\u001b[39my\n\u001b[1;32m      5\u001b[0m     \u001b[38;5;28;01mreturn\u001b[39;00m result\n",
      "\u001b[0;31mZeroDivisionError\u001b[0m: division by zero"
     ]
    }
   ],
   "source": [
    "#when an exception is not handled-\n",
    "\n",
    "def divide(x,y):\n",
    "    result = x/y\n",
    "    return result\n",
    "\n",
    "n = 10 \n",
    "d = 0 \n",
    "\n",
    "result = divide(n,d)\n",
    "return result"
   ]
  },
  {
   "cell_type": "code",
   "execution_count": 6,
   "id": "e76459fa-1597-4b9d-8ba3-fb4d3ebaa2a8",
   "metadata": {},
   "outputs": [
    {
     "name": "stdout",
     "output_type": "stream",
     "text": [
      "division by zero cannot take place\n",
      "None\n"
     ]
    }
   ],
   "source": [
    "#To prevent the program from abruptly terminating and to handle the exception,try and except block is useful-\n",
    "\n",
    "def divide (x,y):\n",
    "    try:\n",
    "        result = x/y\n",
    "        return result\n",
    "    except ZeroDivisionError as e:\n",
    "        print (e, \"cannot take place\")\n",
    "        \n",
    "n = 10\n",
    "d = 0\n",
    "\n",
    "result = divide(n,d)\n",
    "print (result)"
   ]
  },
  {
   "cell_type": "markdown",
   "id": "d32e8563-646f-4a8f-acff-8c788f6d601a",
   "metadata": {},
   "source": [
    "Q3. Which Python statements are used to catch and handle exceptions? Explain with an example."
   ]
  },
  {
   "cell_type": "markdown",
   "id": "6ea06d3f-e6f6-4b58-afde-2f4fc3b1206f",
   "metadata": {},
   "source": [
    "In Python, the try and except statements are used to catch and handle exceptions. The try block contains the code that might raise an exception, and the except block contains the code to be executed if a specific exception is raised within the try block. A relvant example is demonstrated below-"
   ]
  },
  {
   "cell_type": "code",
   "execution_count": 7,
   "id": "4b9713df-09a9-418c-b578-fec48cf1e1bb",
   "metadata": {},
   "outputs": [
    {
     "name": "stdout",
     "output_type": "stream",
     "text": [
      "division by zero cannot take place\n",
      "None\n"
     ]
    }
   ],
   "source": [
    "def divide (x,y):\n",
    "    try:\n",
    "        result = x/y\n",
    "        return result\n",
    "    except ZeroDivisionError as e:\n",
    "        print (e, \"cannot take place\")\n",
    "        \n",
    "n = 10\n",
    "d = 0\n",
    "\n",
    "result = divide(n,d)\n",
    "print (result)"
   ]
  },
  {
   "cell_type": "markdown",
   "id": "ea090d19-1adf-4253-89cb-b0cf58de070b",
   "metadata": {},
   "source": [
    "Q4. Explain with an example:\n",
    "    a. try and else\n",
    "    b. finally\n",
    "    c. raise"
   ]
  },
  {
   "cell_type": "markdown",
   "id": "5ed63c1b-2161-46c8-93ec-886bd0b20b0e",
   "metadata": {},
   "source": [
    "a. try, except, and else\n",
    "\n",
    "The else block in a try statement is executed when no exceptions are raised within the try block. It is used to specify a code block that should run only if the try block completes without any exceptions. A relevant example is demonstrated below-"
   ]
  },
  {
   "cell_type": "code",
   "execution_count": 8,
   "id": "a8098944-4992-48ee-ae1e-c64411db33bb",
   "metadata": {},
   "outputs": [
    {
     "name": "stdin",
     "output_type": "stream",
     "text": [
      "Enter a number:  j\n"
     ]
    },
    {
     "name": "stdout",
     "output_type": "stream",
     "text": [
      "enter a valid number\n"
     ]
    }
   ],
   "source": [
    "try:\n",
    "    num = int(input(\"Enter a number: \"))\n",
    "except ValueError:\n",
    "    print(\"enter a valid number\")\n",
    "else:\n",
    "    print(num)"
   ]
  },
  {
   "cell_type": "code",
   "execution_count": 9,
   "id": "74839713-bf1f-494e-847e-578fb97532fc",
   "metadata": {},
   "outputs": [
    {
     "name": "stdin",
     "output_type": "stream",
     "text": [
      "Enter a number:  -10\n"
     ]
    },
    {
     "name": "stdout",
     "output_type": "stream",
     "text": [
      "-10\n"
     ]
    }
   ],
   "source": [
    "try:\n",
    "    num = int(input(\"Enter a number: \"))\n",
    "except ValueError:\n",
    "    print(\"enter a valid number\")\n",
    "else:\n",
    "    print(num)"
   ]
  },
  {
   "cell_type": "markdown",
   "id": "4956a9b4-caa6-4512-8822-4b7857ad58eb",
   "metadata": {},
   "source": [
    "b.finally\n",
    "\n",
    "The finally block in a try statement is used to specify a code block that will run regardless of whether an exception was raised or not. A relevant example is demonstrated below-"
   ]
  },
  {
   "cell_type": "code",
   "execution_count": 22,
   "id": "e90cab96-af2b-4997-8cf8-6ecd0d560c47",
   "metadata": {},
   "outputs": [
    {
     "name": "stdout",
     "output_type": "stream",
     "text": [
      "File not found!\n",
      "Thank you for using file mgmt system\n"
     ]
    }
   ],
   "source": [
    "try:\n",
    "    file = open(\"example.txt\", \"r\")\n",
    "    content = file.read()\n",
    "except FileNotFoundError:\n",
    "    print(\"File not found!\")\n",
    "finally:\n",
    "    print(\"Thank you for using file mgmt system\")\n"
   ]
  },
  {
   "cell_type": "markdown",
   "id": "ba477314-0bd2-417d-8dc7-922694d2e6aa",
   "metadata": {},
   "source": [
    "c. raise\n",
    "\n",
    "The raise statement is used to manually raise an exception in Python."
   ]
  },
  {
   "cell_type": "code",
   "execution_count": 32,
   "id": "573066ce-46a3-4d7a-a116-72d81fc97aad",
   "metadata": {},
   "outputs": [],
   "source": [
    "def check_age(age):\n",
    "    if age<0:\n",
    "        raise ValueError (\",age can not be negative\")\n",
    "    return f\"age:{age}\""
   ]
  },
  {
   "cell_type": "code",
   "execution_count": 33,
   "id": "b863e070-3203-4da4-b386-4dfbe6e353ed",
   "metadata": {},
   "outputs": [
    {
     "name": "stdin",
     "output_type": "stream",
     "text": [
      "Enter your age:  -5\n"
     ]
    },
    {
     "name": "stdout",
     "output_type": "stream",
     "text": [
      "error ,age can not be negative\n"
     ]
    }
   ],
   "source": [
    "try:\n",
    "    age_input = input(\"Enter your age: \")\n",
    "    age = int(age_input)\n",
    "    result = check_age(age)\n",
    "    print(result)\n",
    "    \n",
    "except ValueError as e:\n",
    "    print(\"error\",e)"
   ]
  },
  {
   "cell_type": "markdown",
   "id": "712d984b-fc6a-4787-a20d-5785169d52ba",
   "metadata": {},
   "source": [
    "Q5. What are custom exceptions in python? Why do we need custom exceptions? Explain with an example."
   ]
  },
  {
   "cell_type": "markdown",
   "id": "a146e2d7-5432-43b0-b8df-2a809dbfd9fa",
   "metadata": {},
   "source": [
    "Custom exceptions in Python are user-defined exception classes that allow user to create their own types of exceptions to handle specific scenarios in the code.\n",
    "\n",
    "Need for custom exceptions-\n",
    "1. Custom exceptions can have names that directly reflect the error or exceptional case. This makes the code more readable.\n",
    "2. Distinguishing between different types of errors becomes more effective, thus debugging becomes easier.\n",
    "3. Some errors might be unique to the application's domain. Creating custom exceptions allows handling these situations in a way that aligns with the application's requirements.\n",
    "\n",
    "A relevant example is demonstrated below-"
   ]
  },
  {
   "cell_type": "code",
   "execution_count": 18,
   "id": "1521deb0-d923-48f6-ac1f-759d8237e2aa",
   "metadata": {},
   "outputs": [],
   "source": [
    "class OutOfHealthError(Exception):\n",
    "    def __init__ (self, player_name):\n",
    "        self.player_name = player_name\n",
    "        super().__init__ (f\"{player_name} is out of health\")\n",
    "        \n",
    "def decrease_health(player_name,amount):\n",
    "    health = 100\n",
    "    if amount>health:\n",
    "        raise OutOfHealthError(player_name)\n",
    "    health -= amount\n",
    "    return health"
   ]
  },
  {
   "cell_type": "code",
   "execution_count": 20,
   "id": "a115338c-1ac6-486a-b993-5add2e235e77",
   "metadata": {},
   "outputs": [
    {
     "name": "stdout",
     "output_type": "stream",
     "text": [
      "healtherror Rohit sharma is out of health\n"
     ]
    }
   ],
   "source": [
    "try:\n",
    "    player_name = \"Rohit sharma\"\n",
    "    damage_amount = 120\n",
    "    remaining_health = decrease_health(player_name,damage_amount)\n",
    "\n",
    "except OutOfHealthError as e:\n",
    "    print(\"healtherror\",e)\n",
    "    \n",
    "else:\n",
    "    print(f\"{player_name}'s health after the damage is \", remaining_health)"
   ]
  },
  {
   "cell_type": "markdown",
   "id": "c5a2ad06-9e4d-4473-9e3b-04efc68af27c",
   "metadata": {},
   "source": [
    "Q6. Create a custom exception class. Use this to handle an exception."
   ]
  },
  {
   "cell_type": "code",
   "execution_count": 34,
   "id": "deb678d0-e131-4a89-8919-3a52dc9cc742",
   "metadata": {},
   "outputs": [],
   "source": [
    "class OutOfHealthError(Exception):\n",
    "    def __init__ (self, player_name):\n",
    "        self.player_name = player_name\n",
    "        super().__init__ (f\"{player_name} is out of health\")\n",
    "        \n",
    "def decrease_health(player_name,amount):\n",
    "    health = 100\n",
    "    if amount>health:\n",
    "        raise OutOfHealthError(player_name)\n",
    "    health -= amount\n",
    "    return health"
   ]
  },
  {
   "cell_type": "code",
   "execution_count": null,
   "id": "71ab797e-7f7e-4063-96ab-810cef2590c0",
   "metadata": {},
   "outputs": [],
   "source": []
  }
 ],
 "metadata": {
  "kernelspec": {
   "display_name": "Python 3 (ipykernel)",
   "language": "python",
   "name": "python3"
  },
  "language_info": {
   "codemirror_mode": {
    "name": "ipython",
    "version": 3
   },
   "file_extension": ".py",
   "mimetype": "text/x-python",
   "name": "python",
   "nbconvert_exporter": "python",
   "pygments_lexer": "ipython3",
   "version": "3.10.8"
  }
 },
 "nbformat": 4,
 "nbformat_minor": 5
}
