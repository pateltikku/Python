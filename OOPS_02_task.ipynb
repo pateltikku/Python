{
 "cells": [
  {
   "cell_type": "markdown",
   "id": "d1733898-febd-491b-bddd-87619d29295e",
   "metadata": {},
   "source": [
    "Q1, Create a vehicle class with an init method having instance variables as name_of_vehicle, max_speed\n",
    "and average_of_vehicle."
   ]
  },
  {
   "cell_type": "code",
   "execution_count": 13,
   "id": "74e3103e-32cd-45d3-9f2f-c60434cc9717",
   "metadata": {},
   "outputs": [],
   "source": [
    "class vehicle:\n",
    "    \n",
    "    def __init__(self, name_of_vehicle, max_speed, average_of_vehicle):\n",
    "        self.name_of_vehicle = name_of_vehicle\n",
    "        self.max_speed = max_speed\n",
    "        self.average_of_vehicle = average_of_vehicle\n",
    "        \n",
    "    def display_details(self):\n",
    "        print(\"Vehicle Details:\")\n",
    "        print(\"Name:\", self.name_of_vehicle)\n",
    "        print(\"Max Speed:\", self.max_speed)\n",
    "        print(\"Average Speed:\", self.average_of_vehicle)"
   ]
  },
  {
   "cell_type": "code",
   "execution_count": 15,
   "id": "d1790bec-b27a-4881-b87f-724e8de3d21f",
   "metadata": {},
   "outputs": [],
   "source": [
    "car = vehicle(\"TATA NANO\",110,33)"
   ]
  },
  {
   "cell_type": "code",
   "execution_count": 16,
   "id": "5421e3ae-db10-485b-b524-157ebb0e74f1",
   "metadata": {},
   "outputs": [
    {
     "data": {
      "text/plain": [
       "33"
      ]
     },
     "execution_count": 16,
     "metadata": {},
     "output_type": "execute_result"
    }
   ],
   "source": [
    "car.average_of_vehicle"
   ]
  },
  {
   "cell_type": "code",
   "execution_count": 17,
   "id": "0022c298-a5d4-4351-83c3-6d5909019010",
   "metadata": {},
   "outputs": [
    {
     "data": {
      "text/plain": [
       "110"
      ]
     },
     "execution_count": 17,
     "metadata": {},
     "output_type": "execute_result"
    }
   ],
   "source": [
    "car.max_speed"
   ]
  },
  {
   "cell_type": "code",
   "execution_count": 18,
   "id": "fafd6d3d-b5db-497e-9fc2-bad444e6a759",
   "metadata": {},
   "outputs": [
    {
     "data": {
      "text/plain": [
       "'TATA NANO'"
      ]
     },
     "execution_count": 18,
     "metadata": {},
     "output_type": "execute_result"
    }
   ],
   "source": [
    "car.name_of_vehicle"
   ]
  },
  {
   "cell_type": "code",
   "execution_count": 19,
   "id": "59be0909-ded3-4344-94a0-97d4a85ef901",
   "metadata": {},
   "outputs": [
    {
     "name": "stdout",
     "output_type": "stream",
     "text": [
      "Vehicle Details:\n",
      "Name: TATA NANO\n",
      "Max Speed: 110\n",
      "Average Speed: 33\n"
     ]
    }
   ],
   "source": [
    "car.display_details()"
   ]
  },
  {
   "cell_type": "markdown",
   "id": "1260d1f3-0485-4d20-b03a-faf247211f53",
   "metadata": {},
   "source": [
    "Q2. Create a child class car from the vehicle class created in Que 1, which will inherit the vehicle class.\n",
    "Create a method named seating_capacity which takes capacity as an argument and returns the name of\n",
    "the vehicle and its seating capacity."
   ]
  },
  {
   "cell_type": "code",
   "execution_count": 43,
   "id": "3f285ddb-b63d-4e47-a0b6-cb5a20815577",
   "metadata": {},
   "outputs": [],
   "source": [
    "class vehicle:\n",
    "    \n",
    "    def __init__(self, name_of_vehicle, max_speed, average_of_vehicle):\n",
    "        self.name_of_vehicle = name_of_vehicle\n",
    "        self.max_speed = max_speed\n",
    "        self.average_of_vehicle = average_of_vehicle\n",
    "        \n",
    "    def display_details(self):\n",
    "        print(\"Vehicle Details:\")\n",
    "        print(\"Name:\", self.name_of_vehicle)\n",
    "        print(\"Max Speed:\", self.max_speed)\n",
    "        print(\"Average Speed:\", self.average_of_vehicle)"
   ]
  },
  {
   "cell_type": "code",
   "execution_count": 44,
   "id": "2a49f418-d8e2-477e-9cb2-8c056b15a9c0",
   "metadata": {},
   "outputs": [],
   "source": [
    "class car(vehicle):\n",
    "    def seating_capacity(self, capacity):\n",
    "        return f\"{self.name_of_vehicle} has a seating capacity of {capacity} people.\""
   ]
  },
  {
   "cell_type": "code",
   "execution_count": 45,
   "id": "d42e6f5f-8ecb-431e-9db8-e44229f7d358",
   "metadata": {},
   "outputs": [],
   "source": [
    "car = car(\"TATA NANO\",110,33)"
   ]
  },
  {
   "cell_type": "code",
   "execution_count": 48,
   "id": "d006d95f-12a6-4a59-ad9d-b56a418cc157",
   "metadata": {},
   "outputs": [
    {
     "data": {
      "text/plain": [
       "'TATA NANO has a seating capacity of 4 people.'"
      ]
     },
     "execution_count": 48,
     "metadata": {},
     "output_type": "execute_result"
    }
   ],
   "source": [
    "capacity_of_car = car.seating_capacity(4)\n",
    "capacity_of_car"
   ]
  },
  {
   "cell_type": "markdown",
   "id": "c0079c0f-f69f-46b3-a437-849b0e60cba5",
   "metadata": {},
   "source": [
    "Q3. What is multiple inheritance? Write a python code to demonstrate multiple inheritance."
   ]
  },
  {
   "cell_type": "markdown",
   "id": "75835af1-f0a6-4ee7-9597-2130d661525c",
   "metadata": {},
   "source": [
    "Multiple Inheritance:- This involves a class inheriting from more than one parent class. In this type, a child class inherits attributes from multiple parent classes.\n",
    "\n",
    "A relevant example is demonstratd below-"
   ]
  },
  {
   "cell_type": "code",
   "execution_count": 49,
   "id": "3d309e16-b91e-477d-9c3a-9f7c6d0c143d",
   "metadata": {},
   "outputs": [],
   "source": [
    "# multiple inheritance-\n",
    "class class1:\n",
    "    def test_class1(self):\n",
    "        print(\"This is class 1\")"
   ]
  },
  {
   "cell_type": "code",
   "execution_count": 50,
   "id": "fdd07679-4da9-4026-ba9a-cdd313030bf8",
   "metadata": {},
   "outputs": [],
   "source": [
    "class class2:\n",
    "    def test_class2(self):\n",
    "        print(\"This is class 2\")"
   ]
  },
  {
   "cell_type": "code",
   "execution_count": 51,
   "id": "96eb7fbf-4135-4a97-8b25-f0d8a67e164c",
   "metadata": {},
   "outputs": [],
   "source": [
    "class class3(class1,class2):\n",
    "    pass\n",
    "    "
   ]
  },
  {
   "cell_type": "code",
   "execution_count": 52,
   "id": "d1a1b122-b03d-4a75-8fad-0bf6d1975527",
   "metadata": {},
   "outputs": [],
   "source": [
    "obj_class3 = class3()"
   ]
  },
  {
   "cell_type": "code",
   "execution_count": 53,
   "id": "5507af2d-160a-4fde-b4a8-a737978e50e4",
   "metadata": {},
   "outputs": [
    {
     "name": "stdout",
     "output_type": "stream",
     "text": [
      "This is class 1\n"
     ]
    }
   ],
   "source": [
    "obj_class3.test_class1()"
   ]
  },
  {
   "cell_type": "code",
   "execution_count": 54,
   "id": "8a2848c6-01fc-46d6-8d61-ab368bbbf0eb",
   "metadata": {},
   "outputs": [
    {
     "name": "stdout",
     "output_type": "stream",
     "text": [
      "This is class 2\n"
     ]
    }
   ],
   "source": [
    "obj_class3.test_class2()"
   ]
  },
  {
   "cell_type": "markdown",
   "id": "b377470d-e21b-4ff3-81ce-587c7de83411",
   "metadata": {},
   "source": [
    "Q4. What are getter and setter in python? Create a class and create a getter and a setter method in this\n",
    "class."
   ]
  },
  {
   "cell_type": "code",
   "execution_count": 1,
   "id": "4c61c14c-9a3d-42f9-b405-f814aed01c20",
   "metadata": {},
   "outputs": [],
   "source": [
    "class bank_account:\n",
    "    def __init__(self,balance,account_holder_name):\n",
    "        self.__balance = balance\n",
    "        self.account_holder_name = account_holder_name\n",
    "        \n",
    "    @property\n",
    "    def balance_access(self):\n",
    "        return self.__balance\n",
    "    \n",
    "    @balance_access.setter\n",
    "    def balance_set(self,new_balance):\n",
    "        if new_balance >=0:\n",
    "            self.__balance = new_balance\n",
    "        else:\n",
    "            print(\"Invalid balance value\")"
   ]
  },
  {
   "cell_type": "code",
   "execution_count": 2,
   "id": "7b8eb557-2ebe-4b36-befa-c01ec94066c2",
   "metadata": {},
   "outputs": [],
   "source": [
    "account = bank_account(1000,\"Tikku\")"
   ]
  },
  {
   "cell_type": "code",
   "execution_count": 3,
   "id": "05cc1f54-db62-4191-bbfe-aacbdd69e070",
   "metadata": {},
   "outputs": [
    {
     "data": {
      "text/plain": [
       "1000"
      ]
     },
     "execution_count": 3,
     "metadata": {},
     "output_type": "execute_result"
    }
   ],
   "source": [
    "account.balance_access"
   ]
  },
  {
   "cell_type": "code",
   "execution_count": 4,
   "id": "b8ceabe9-b696-4657-bb74-5e01590ab69c",
   "metadata": {},
   "outputs": [
    {
     "data": {
      "text/plain": [
       "'Tikku'"
      ]
     },
     "execution_count": 4,
     "metadata": {},
     "output_type": "execute_result"
    }
   ],
   "source": [
    "account.account_holder_name "
   ]
  },
  {
   "cell_type": "code",
   "execution_count": 5,
   "id": "902b5fa6-8bbc-4621-8db6-6db8ecf97e1b",
   "metadata": {},
   "outputs": [
    {
     "name": "stdout",
     "output_type": "stream",
     "text": [
      "Invalid balance value\n"
     ]
    }
   ],
   "source": [
    "account.balance_set = -500"
   ]
  },
  {
   "cell_type": "markdown",
   "id": "04d07269-34b4-4ea1-909f-fc14ad1a3139",
   "metadata": {},
   "source": [
    "Q5.What is method overriding in python? Write a python code to demonstrate method overriding."
   ]
  },
  {
   "cell_type": "markdown",
   "id": "59bde868-41ef-4eb9-a9b9-c5fac6660182",
   "metadata": {},
   "source": [
    "Method overriding is when a subclass gives its own version of a method inherited from its parent class, keeping the same method name and parameters. This allows the subclass to change or improve the behavior of the method while still fitting into the overall class structure.\n",
    "\n",
    "A relevant example is demonstrated below-"
   ]
  },
  {
   "cell_type": "code",
   "execution_count": 18,
   "id": "78269685-b2a0-4c1b-894c-df91d8eb1028",
   "metadata": {},
   "outputs": [],
   "source": [
    "class parents:\n",
    "    def saying(self):\n",
    "        print(\"parent:-\\n How are you?\")\n",
    "\n",
    "class child(parents):\n",
    "    def saying(self):\n",
    "        print(\"child:-\\n I am fine\")"
   ]
  },
  {
   "cell_type": "code",
   "execution_count": 19,
   "id": "ee30e7c6-c4c9-4a3f-be1d-a1bb44827e14",
   "metadata": {},
   "outputs": [],
   "source": [
    "p = parents()"
   ]
  },
  {
   "cell_type": "code",
   "execution_count": 20,
   "id": "4d12268a-dd91-4f20-8981-cb8389ec48b7",
   "metadata": {},
   "outputs": [],
   "source": [
    "c= child()"
   ]
  },
  {
   "cell_type": "code",
   "execution_count": 21,
   "id": "27d05018-9a13-4878-962f-eb854b064b73",
   "metadata": {},
   "outputs": [
    {
     "name": "stdout",
     "output_type": "stream",
     "text": [
      "parent:-\n",
      " How are you?\n",
      "child:-\n",
      " I am fine\n"
     ]
    }
   ],
   "source": [
    "p.saying()\n",
    "c.saying()"
   ]
  },
  {
   "cell_type": "code",
   "execution_count": null,
   "id": "d1c9e2b2-f89c-4538-b5c7-778028b05aa6",
   "metadata": {},
   "outputs": [],
   "source": []
  }
 ],
 "metadata": {
  "kernelspec": {
   "display_name": "Python 3 (ipykernel)",
   "language": "python",
   "name": "python3"
  },
  "language_info": {
   "codemirror_mode": {
    "name": "ipython",
    "version": 3
   },
   "file_extension": ".py",
   "mimetype": "text/x-python",
   "name": "python",
   "nbconvert_exporter": "python",
   "pygments_lexer": "ipython3",
   "version": "3.10.8"
  }
 },
 "nbformat": 4,
 "nbformat_minor": 5
}
