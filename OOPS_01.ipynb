{
 "cells": [
  {
   "cell_type": "markdown",
   "id": "7ac8841e-f707-4bc7-b7c7-684752e3a8c6",
   "metadata": {},
   "source": [
    "Q1. Explain Class and Object with respect to Object-Oriented Programming. Give a suitable example"
   ]
  },
  {
   "cell_type": "markdown",
   "id": "693a36f2-713d-4edb-ada0-2991b7f09755",
   "metadata": {},
   "source": [
    "A CLASS is a blue print for creating objects. It conatins set of instructions for creating object, in a class there are\n",
    "properties that store data and functions that represents the object of the class.\n",
    "\n",
    "An OBJECT is an instance of a class, it is an entity that has been created by the class with some specifications. However, objects have their own set of attributes and are able to perform actions defind by their respective classes.\n",
    "\n",
    "A relevant example is demonstrated below-\n"
   ]
  },
  {
   "cell_type": "code",
   "execution_count": 1,
   "id": "6e8f46e9-d706-4061-adc9-32eb4b9cd1d1",
   "metadata": {},
   "outputs": [],
   "source": [
    "class car:\n",
    "    def __init__(self,make,model,year):\n",
    "        self.make = make\n",
    "        self.model = model\n",
    "        self.year = year\n",
    "        "
   ]
  },
  {
   "cell_type": "code",
   "execution_count": 2,
   "id": "670a1e1a-3d15-4d74-a9d9-78995565cad1",
   "metadata": {},
   "outputs": [],
   "source": [
    "car1 = car(\"TATA\",\"NANO\",\"2015\")"
   ]
  },
  {
   "cell_type": "code",
   "execution_count": 3,
   "id": "39ad3e02-1538-4b00-aade-bdc6fc0edc15",
   "metadata": {},
   "outputs": [
    {
     "data": {
      "text/plain": [
       "'TATA'"
      ]
     },
     "execution_count": 3,
     "metadata": {},
     "output_type": "execute_result"
    }
   ],
   "source": [
    "car1.make"
   ]
  },
  {
   "cell_type": "code",
   "execution_count": 4,
   "id": "68d9dfed-7ea7-4c76-ac53-6393b8dcdff8",
   "metadata": {},
   "outputs": [
    {
     "data": {
      "text/plain": [
       "'NANO'"
      ]
     },
     "execution_count": 4,
     "metadata": {},
     "output_type": "execute_result"
    }
   ],
   "source": [
    "car1.model"
   ]
  },
  {
   "cell_type": "code",
   "execution_count": 5,
   "id": "a89f1207-9fad-4d9d-aaec-b839784df9ad",
   "metadata": {},
   "outputs": [
    {
     "data": {
      "text/plain": [
       "'2015'"
      ]
     },
     "execution_count": 5,
     "metadata": {},
     "output_type": "execute_result"
    }
   ],
   "source": [
    "car1.year"
   ]
  },
  {
   "cell_type": "markdown",
   "id": "6143ac56-fbcd-45a9-9e60-f93bc5347d59",
   "metadata": {},
   "source": [
    "Q2. Name the four pillars of OOPs."
   ]
  },
  {
   "cell_type": "markdown",
   "id": "217b1d72-17ad-4d97-b27c-3038a1aec134",
   "metadata": {},
   "source": [
    "1. Abstraction- \n",
    "It involves simplifying code by modeling classes based on relevant attributes. It holds the necessary implementation by hinding unnecessary complexities.\n",
    "\n",
    "2. Encapsulation-\n",
    "It refers to bundling of the data and methods which works as a single unit. It restricts the direct access to internal data of the object concerned. It also provides controlled access to the inernal data through specified methods.\n",
    "\n",
    "3. Inheritance-\n",
    "It is a mechnaism that allows a class to inherit properties from another class. Inheritance promotes code reusability.\n",
    "\n",
    "4. Polymorphism- \n",
    "It is a function having multiple characteristics. It allows to writes code that can work with objects of multiple types as long as they share common methods.\n"
   ]
  },
  {
   "cell_type": "raw",
   "id": "b7ec3ac1-b17d-41c2-ab14-c8c9f03bf9f4",
   "metadata": {},
   "source": [
    "Q3. Explain why the __init__() function is used. Give a suitable example."
   ]
  },
  {
   "cell_type": "raw",
   "id": "1d10ccd5-2f5b-4790-a3ef-6791f9df0564",
   "metadata": {},
   "source": [
    "__init__ is a special constructor, it represents attributes of an object when a class is created. This method is automatically called whenever a new instance for an object is made from the respective class.\n",
    "A relevant example is demonstrated below-"
   ]
  },
  {
   "cell_type": "code",
   "execution_count": 18,
   "id": "d090071b-776d-46d5-8d95-75e9c5f0f088",
   "metadata": {},
   "outputs": [],
   "source": [
    "class Laptop:\n",
    "    def __init__(self, make, processor, year):\n",
    "        self.make = make\n",
    "        self.processor = processor\n",
    "        self.year = year\n",
    "        self.supports_win_11 = False\n",
    "        \n",
    "    def win_11_support(self):\n",
    "        self.supports_win_11 = False\n",
    "        print(\"Does not supports windows 11\")\n",
    "        \n",
    "    def print_info(self):\n",
    "        print(f\"Make: {self.make}\")\n",
    "        print(f\"Processor: {self.processor}\")\n",
    "        print(f\"Year: {self.year}\")\n",
    "        if self.supports_win_11:\n",
    "            print(\"Supports Windows 11\")\n",
    "        else:\n",
    "            print(\"Too old for Windows 11\")"
   ]
  },
  {
   "cell_type": "code",
   "execution_count": 20,
   "id": "8753e0af-ec78-4743-8e00-54aae883eb85",
   "metadata": {},
   "outputs": [],
   "source": [
    "my_laptop = Laptop(\"hp\",\"AMD\",2018)"
   ]
  },
  {
   "cell_type": "code",
   "execution_count": 21,
   "id": "53f2e9d8-7458-4e44-bcd7-19eb9613e2a9",
   "metadata": {},
   "outputs": [
    {
     "name": "stdout",
     "output_type": "stream",
     "text": [
      "Does not supports windows 11\n"
     ]
    }
   ],
   "source": [
    "my_laptop.win_11_support()"
   ]
  },
  {
   "cell_type": "code",
   "execution_count": 22,
   "id": "ee46fdf8-b99f-49ce-b1be-5882ca34bef0",
   "metadata": {},
   "outputs": [
    {
     "name": "stdout",
     "output_type": "stream",
     "text": [
      "Make: hp\n",
      "Processor: AMD\n",
      "Year: 2018\n",
      "Too old for Windows 11\n"
     ]
    }
   ],
   "source": [
    "my_laptop.print_info()"
   ]
  },
  {
   "cell_type": "markdown",
   "id": "45c133bb-a5af-4136-8f51-c9bd6d036e2f",
   "metadata": {},
   "source": [
    "Q4. Why self is used in OOPs?"
   ]
  },
  {
   "cell_type": "raw",
   "id": "fbb95da5-3ad4-49c7-865b-8986254b3d23",
   "metadata": {},
   "source": [
    "The \"self\" keyword is used to refer to the instance of a class within its own methods. The use of self is essential to maintain the distinction between attributes and methods of different instances of the same class.\n",
    "\n",
    "Uses-\n",
    "Initializing Attributes: When a new object is created in a class, __init__() method is used to set up its initial characteristics. The self keyword inside this method refers to the object being created, and used to store the specific details for that object.\n",
    "\n",
    "Accessing Attributes and Methods: When accessing or modification of the attributes or methods of the object is needed within its own methods, use of self makes sure that work is being done with the correct object.\n",
    "\n",
    "Keeping Things Separate: Having multiple objects created from the same class, using self helps each object know its own data and actions. This way, they don't get mixed up or confused with each other's details.\n"
   ]
  },
  {
   "cell_type": "markdown",
   "id": "61f4ffd5-5f55-4aea-a1a7-0fefddbd4286",
   "metadata": {},
   "source": [
    "Q5. What is inheritance? Give an example for each type of inheritance."
   ]
  },
  {
   "cell_type": "markdown",
   "id": "45da8312-b136-4a54-b46c-c51b91e4a4f8",
   "metadata": {},
   "source": [
    "Inheritance is a mechnaism that allows a class to inherit properties from another class. Inheritance promotes code reusability. The types of the same is explained below-\n",
    "\n",
    "Multiple Inheritance:-\n",
    "This involves a class inheriting from more than one parent class. In this type, a child class inherits attributes from multiple parent classes.\n",
    "\n",
    "Multilevel Inheritance:-\n",
    "This involves a chain of inheritance; where a class inherits from another class, which in turn inherits from another class."
   ]
  },
  {
   "cell_type": "code",
   "execution_count": 2,
   "id": "b3fc5740-09a5-4079-8a2f-4586f045ba4c",
   "metadata": {},
   "outputs": [],
   "source": [
    "# multiple inheritance-\n",
    "class class1:\n",
    "    def test_class1(self):\n",
    "        print(\"This is class 1\")"
   ]
  },
  {
   "cell_type": "code",
   "execution_count": 3,
   "id": "03797f13-ed31-4ce3-8943-825bc36cce8c",
   "metadata": {},
   "outputs": [],
   "source": [
    "class class2:\n",
    "    def test_class2(self):\n",
    "        print(\"This is class 2\")"
   ]
  },
  {
   "cell_type": "code",
   "execution_count": 4,
   "id": "a3d4e6d5-c2ac-4f41-b6f3-617742f2e587",
   "metadata": {},
   "outputs": [],
   "source": [
    "class class3(class1,class2):\n",
    "    pass\n",
    "    "
   ]
  },
  {
   "cell_type": "code",
   "execution_count": 5,
   "id": "61d20ef9-7b9d-4ff8-8df9-5a1957bd7c45",
   "metadata": {},
   "outputs": [],
   "source": [
    "obj_class3 = class3()"
   ]
  },
  {
   "cell_type": "code",
   "execution_count": 6,
   "id": "59da5a6c-9a0c-4a1a-9b55-a545a4401004",
   "metadata": {},
   "outputs": [
    {
     "name": "stdout",
     "output_type": "stream",
     "text": [
      "This is class 1\n"
     ]
    }
   ],
   "source": [
    "obj_class3.test_class1()"
   ]
  },
  {
   "cell_type": "code",
   "execution_count": 7,
   "id": "b8507fd0-7b80-4892-9ecc-093e84a2999c",
   "metadata": {},
   "outputs": [
    {
     "name": "stdout",
     "output_type": "stream",
     "text": [
      "This is class 2\n"
     ]
    }
   ],
   "source": [
    "obj_class3.test_class2()"
   ]
  },
  {
   "cell_type": "code",
   "execution_count": 8,
   "id": "c693f778-18d3-4567-bf71-dc82db705925",
   "metadata": {},
   "outputs": [],
   "source": [
    "#Multilevel inheritance-\n",
    "class class1:\n",
    "    def test_class1(self):\n",
    "        print(\"This is class 1\")"
   ]
  },
  {
   "cell_type": "code",
   "execution_count": 9,
   "id": "f6c67c18-ad5d-44af-add6-cf18957356c6",
   "metadata": {},
   "outputs": [],
   "source": [
    "class class2(class1):\n",
    "    def test_class2(self):\n",
    "        print(\"This is class 2\")"
   ]
  },
  {
   "cell_type": "code",
   "execution_count": 10,
   "id": "6f280ec7-344d-4dab-aabb-c199dd6f51e4",
   "metadata": {},
   "outputs": [],
   "source": [
    "class class3(class2):\n",
    "    def test_class3(self):\n",
    "        print(\"This is my class 3\")\n",
    "        "
   ]
  },
  {
   "cell_type": "code",
   "execution_count": 11,
   "id": "32d41e5b-8c0d-4bc4-9983-e329e826574c",
   "metadata": {},
   "outputs": [],
   "source": [
    "obj_class3 = class3()"
   ]
  },
  {
   "cell_type": "code",
   "execution_count": 12,
   "id": "bce31b0e-af7d-42f0-9d4a-006d3ec76159",
   "metadata": {},
   "outputs": [
    {
     "name": "stdout",
     "output_type": "stream",
     "text": [
      "This is class 1\n"
     ]
    }
   ],
   "source": [
    "obj_class3.test_class1()"
   ]
  },
  {
   "cell_type": "code",
   "execution_count": 13,
   "id": "0e013ca6-12eb-4b0e-9014-0664e016e199",
   "metadata": {},
   "outputs": [
    {
     "name": "stdout",
     "output_type": "stream",
     "text": [
      "This is class 2\n"
     ]
    }
   ],
   "source": [
    "obj_class3.test_class2()"
   ]
  },
  {
   "cell_type": "code",
   "execution_count": null,
   "id": "aacbc543-d8d3-456f-be5b-981b1b81ec37",
   "metadata": {},
   "outputs": [],
   "source": []
  }
 ],
 "metadata": {
  "kernelspec": {
   "display_name": "Python 3 (ipykernel)",
   "language": "python",
   "name": "python3"
  },
  "language_info": {
   "codemirror_mode": {
    "name": "ipython",
    "version": 3
   },
   "file_extension": ".py",
   "mimetype": "text/x-python",
   "name": "python",
   "nbconvert_exporter": "python",
   "pygments_lexer": "ipython3",
   "version": "3.10.8"
  }
 },
 "nbformat": 4,
 "nbformat_minor": 5
}
