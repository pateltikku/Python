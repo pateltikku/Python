{
 "cells": [
  {
   "cell_type": "markdown",
   "id": "79375ced-d6bb-4fa3-aed9-fb23981f8b4a",
   "metadata": {},
   "source": [
    "Q1. What is multiprocessing in python? Why is it useful? "
   ]
  },
  {
   "cell_type": "markdown",
   "id": "c013f19b-d897-410d-9e00-7617c7089115",
   "metadata": {},
   "source": [
    "Multiprocessing in Python refers to the capability of the Python programming language to create and manage multiple processes concurrently. The process has its own memory space, multiprocessing allows to harness the power of multi-core processors.\n",
    "\n",
    "Why multiprocessing is useful?\n",
    "\n",
    "1. Multiprocessing facilitate to execute multiple tasks in parallel, making better use of multi-core processors. This can significantly improve the performance of CPU-bound tasks, such as data processing ec cetera.\n",
    "\n",
    "2. By dividing a problem into smaller tasks that can be executed concurrently, a significant performance boost can be achieved compared to running those tasks sequentially.\n",
    "\n",
    "3. Each process in multiprocessing has its own memory space, which means that if one process crashes or encounters an error, it typically won't affect other processes.\n",
    "\n",
    "4. Multiprocessing is particularly useful for breaking down a large problem into smaller, more manageable sub-tasks that can be solved concurrently easily. "
   ]
  },
  {
   "cell_type": "markdown",
   "id": "e9f7950c-2e87-4884-80ff-72be2fd162e1",
   "metadata": {},
   "source": [
    "Q2. What are the differences between multiprocessing and multithreading?"
   ]
  },
  {
   "cell_type": "markdown",
   "id": "fec253b0-3a89-40e5-bf60-932f05849689",
   "metadata": {},
   "source": [
    "Multiprocessing and multithreading are both techniques used for achieving parallelism in a program, but they operate differently and have distinct use cases. \n",
    "\n",
    "Here are the key differences between multiprocessing and multithreading-\n",
    "\n",
    "1. Multiprocessing involves creating multiple separate processes, each with its own memory space and Python interpreter. These processes run independently and can take full advantage of multi-core processors. On the other hand,multithreading involves creating multiple threads within a single process. Threads share the same memory space and Python interpreter. \n",
    "\n",
    "2. Since multiprocessing has its own memory space and interpreter, a crash or error in one process usually does not affect other processes. However, in multithreading a crash or an error in one thread can potentially crash the entire process because threads share the same memory space and resources.\n",
    "\n",
    "3. Multiprocessing is well-suited for CPU-bound tasks, but multithreading is often used for I/O-bound tasks."
   ]
  },
  {
   "cell_type": "markdown",
   "id": "fdc1575c-fe2a-4753-8df3-86b46b05aad0",
   "metadata": {},
   "source": [
    "Q3. Write a python code to create a process using the multiprocessing module."
   ]
  },
  {
   "cell_type": "code",
   "execution_count": 1,
   "id": "4201f869-e82b-4441-92ea-2f386493a6a2",
   "metadata": {},
   "outputs": [],
   "source": [
    "import multiprocessing\n",
    "\n",
    "def func():\n",
    "    print(\"this is a process\")"
   ]
  },
  {
   "cell_type": "code",
   "execution_count": 3,
   "id": "09915d5b-9cbc-4146-9ca9-a44b071c81f3",
   "metadata": {},
   "outputs": [
    {
     "name": "stdout",
     "output_type": "stream",
     "text": [
      "this is a process\n",
      "Process has been completed successfully\n"
     ]
    }
   ],
   "source": [
    "if __name__==\"__main__\":\n",
    "    process = multiprocessing.Process(target = func)\n",
    "\n",
    "process.start()\n",
    "process.join()\n",
    "\n",
    "print(\"Process has been completed successfully\")"
   ]
  },
  {
   "cell_type": "markdown",
   "id": "10c17ac2-4d27-418e-b70d-34bdfe8bf98d",
   "metadata": {},
   "source": [
    "Q4. What is a multiprocessing pool in python? Why is it used?"
   ]
  },
  {
   "cell_type": "markdown",
   "id": "0d8da51a-a24c-4c08-9186-cf50abd0991f",
   "metadata": {},
   "source": [
    "A multiprocessing pool simplifies the process of parallelizing and distributing tasks across multiple processes. It provides  a pool of worker processes, that enables the execution of functions or methods with multiple input values concurrently.\n",
    "\n",
    "Why this is useful?\n",
    "\n",
    "1. With creation of a multiprocessing pool, it automatically creates a specified number of worker processes. These worker processes are available to execute tasks in parallel.\n",
    "\n",
    "2. The pool distrubutes these tasks to worker processes, each worker process execute one task at a time.\n",
    "\n",
    "3. The pool handles the management of worker processes, ensuring that they are properly started and terminated. This simplifies the code required for creating and managing individual processes.\n",
    "\n",
    "A relevant example is demonstrated below-"
   ]
  },
  {
   "cell_type": "code",
   "execution_count": 7,
   "id": "75d56417-1ec7-4fb6-95ff-cf06ce09e55f",
   "metadata": {},
   "outputs": [
    {
     "name": "stdout",
     "output_type": "stream",
     "text": [
      "result:  [1, 4, 9, 16, 25, 36, 49, 64, 81, 100]\n"
     ]
    }
   ],
   "source": [
    "import multiprocessing\n",
    "\n",
    "def square(x):\n",
    "    return x*x\n",
    "\n",
    "if __name__==\"__main__\":\n",
    "    with multiprocessing.Pool(processes = 4) as pool:\n",
    "        numbers = [1,2,3,4,5,6,7,8,9,10]\n",
    "        \n",
    "        squared_nums = pool.map(square,numbers)\n",
    "        \n",
    "    print(\"result: \", squared_nums)"
   ]
  },
  {
   "cell_type": "markdown",
   "id": "2bca980b-a464-4f0e-9d1d-ae066d808c7a",
   "metadata": {},
   "source": [
    "Q5. How can we create a pool of worker processes in python using the multiprocessing module?"
   ]
  },
  {
   "cell_type": "markdown",
   "id": "b7c9d872-f7fa-4389-99d7-5f0faa4e0908",
   "metadata": {},
   "source": [
    "Here's the step by step process-\n",
    "\n",
    "1. Import the \"multiprocessing\" module.\n",
    "2. creting a pool of worker processes by using \"multiprocessing.Pool\" class.\n",
    "3. The numbers of worker processes are specified using the argument called \"processes\" and numbers of CPU cores are set.\n",
    "4. Assign the task to the pool, by methods such as \"map\",\"apply\" etc.\n",
    "5. Obtain results\n",
    "6. Clean the pool."
   ]
  },
  {
   "cell_type": "markdown",
   "id": "8ee53ff8-0d46-4fc4-8f45-699ec21e8db2",
   "metadata": {},
   "source": [
    "Q6. Write a python program to create 4 processes, each process should print a different number using the\n",
    "multiprocessing module in python."
   ]
  },
  {
   "cell_type": "code",
   "execution_count": 12,
   "id": "7205c9d5-8f73-4e2b-89e2-da50e25a9a34",
   "metadata": {},
   "outputs": [
    {
     "name": "stdout",
     "output_type": "stream",
     "text": [
      "Process 1: 1\n",
      "Process 2: 2\n",
      "Process 3: 3\n",
      "Process 4: 4\n"
     ]
    }
   ],
   "source": [
    "import multiprocessing\n",
    "\n",
    "def numbers(number):\n",
    "    print(f\"Process {number}: {number}\")\n",
    "\n",
    "if __name__ == \"__main__\":\n",
    "    num = [1, 2, 3, 4]\n",
    "    processes = []\n",
    "\n",
    "    for i in num:\n",
    "        process = multiprocessing.Process(target=numbers, args=(i,))\n",
    "        processes.append(process)\n",
    "        process.start()\n",
    "\n",
    "    for process in processes:\n",
    "        process.join()\n"
   ]
  },
  {
   "cell_type": "code",
   "execution_count": null,
   "id": "b4886efd-9e67-470e-bb24-d9b3ce581588",
   "metadata": {},
   "outputs": [],
   "source": []
  }
 ],
 "metadata": {
  "kernelspec": {
   "display_name": "Python 3 (ipykernel)",
   "language": "python",
   "name": "python3"
  },
  "language_info": {
   "codemirror_mode": {
    "name": "ipython",
    "version": 3
   },
   "file_extension": ".py",
   "mimetype": "text/x-python",
   "name": "python",
   "nbconvert_exporter": "python",
   "pygments_lexer": "ipython3",
   "version": "3.10.8"
  }
 },
 "nbformat": 4,
 "nbformat_minor": 5
}
