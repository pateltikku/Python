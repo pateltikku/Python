{
 "cells": [
  {
   "cell_type": "markdown",
   "id": "4f67010e-c5f6-4328-9fef-955b4f816754",
   "metadata": {},
   "source": [
    "Q1. Which keyword is used to create a function? Create a function to return a list of odd numbers in the\n",
    "range of 1 to 25."
   ]
  },
  {
   "cell_type": "markdown",
   "id": "09dec5a4-03fc-4918-8626-a48426333628",
   "metadata": {},
   "source": [
    "keyword \"def\" is used to define a function. A function as per the question is demonstrated below-"
   ]
  },
  {
   "cell_type": "code",
   "execution_count": 2,
   "id": "b4eda0cf-dba7-433d-88a5-4d1dbe43a5bb",
   "metadata": {},
   "outputs": [],
   "source": [
    "def odd_no():\n",
    "    odd_numbers = []\n",
    "    for number in range (1,26):\n",
    "        if number %2 != 0:\n",
    "            odd_numbers.append(number)\n",
    "    return odd_numbers"
   ]
  },
  {
   "cell_type": "code",
   "execution_count": 6,
   "id": "8b3732eb-acbf-4dcb-970c-a70a7042d826",
   "metadata": {},
   "outputs": [
    {
     "data": {
      "text/plain": [
       "[1, 3, 5, 7, 9, 11, 13, 15, 17, 19, 21, 23, 25]"
      ]
     },
     "execution_count": 6,
     "metadata": {},
     "output_type": "execute_result"
    }
   ],
   "source": [
    "odd_num = odd_no()\n",
    "odd_num"
   ]
  },
  {
   "cell_type": "markdown",
   "id": "f52ab47d-d7f7-44d3-a129-572077fe2fee",
   "metadata": {},
   "source": [
    "Q2. Why *args and **kwargs is used in some functions? Create a function each for *args and **kwargs to\n",
    "demonstrate their use."
   ]
  },
  {
   "cell_type": "markdown",
   "id": "da79b6c2-23f2-43f9-94cb-b2fcc924a4e7",
   "metadata": {},
   "source": [
    "\"*args\" allows to pass any number of argument to a single function. They are collected into a tuple inside a function.\n",
    "A relevant example is given below-"
   ]
  },
  {
   "cell_type": "code",
   "execution_count": 7,
   "id": "22e72d98-af89-4a8a-8283-cc2a07d5d6d3",
   "metadata": {},
   "outputs": [],
   "source": [
    "def test(*args):\n",
    "    total = 0\n",
    "    for i in args:\n",
    "        total += i\n",
    "    return total"
   ]
  },
  {
   "cell_type": "code",
   "execution_count": 8,
   "id": "8924d713-a151-4d7e-9c05-f4b1187a63db",
   "metadata": {},
   "outputs": [
    {
     "data": {
      "text/plain": [
       "15"
      ]
     },
     "execution_count": 8,
     "metadata": {},
     "output_type": "execute_result"
    }
   ],
   "source": [
    "t = test(1,2,3,4,5)\n",
    "t"
   ]
  },
  {
   "cell_type": "markdown",
   "id": "0f303aa3-2c8b-4d7f-a5ac-ea3a58ce592e",
   "metadata": {},
   "source": [
    "Likewise \"**kwargs\" also perform similar functions as \"*args\". However, \"**kawrgs\" output are in the format of key and\n",
    "value ie- a dictionary or dict. "
   ]
  },
  {
   "cell_type": "code",
   "execution_count": 14,
   "id": "6e306c20-c6a0-49dd-827f-64edb2dff139",
   "metadata": {},
   "outputs": [],
   "source": [
    "def test2(**kwargs):\n",
    "    for key, value in kwargs.items():\n",
    "        print(f\"{key}:{value}\")"
   ]
  },
  {
   "cell_type": "code",
   "execution_count": 17,
   "id": "814381ca-50ce-4529-87eb-ad4823914488",
   "metadata": {},
   "outputs": [
    {
     "name": "stdout",
     "output_type": "stream",
     "text": [
      "name:tikku\n",
      "age:27\n"
     ]
    }
   ],
   "source": [
    "test2(name = \"tikku\", age = 27)"
   ]
  },
  {
   "cell_type": "markdown",
   "id": "64fa0215-22b9-4f6b-9989-e2e259e3f8aa",
   "metadata": {},
   "source": [
    "Q3.  What is an iterator in python? Name the method used to initialise the iterator object and the method\n",
    "used for iteration. Use these methods to print the first five elements of the given list [2, 4, 6, 8, 10, 12, 14, 16,\n",
    "18, 20]."
   ]
  },
  {
   "cell_type": "markdown",
   "id": "f934a945-db15-472c-926b-fc646d2d08be",
   "metadata": {},
   "source": [
    "Iterator implements two methods-\"__iter__()\" and \"__next__()\". It allows to iterate over values (like elements of a list)\n",
    "without the need of knowing the details of a sequence. Iterators are intialized by \"iter()\" and iteration is done by \"next()\".\n",
    "\n",
    "Demonstration of the elements as per the question is provided below-"
   ]
  },
  {
   "cell_type": "code",
   "execution_count": 21,
   "id": "7290f895-2fe6-442d-9947-16bc422bf490",
   "metadata": {},
   "outputs": [
    {
     "name": "stdout",
     "output_type": "stream",
     "text": [
      "2\n",
      "4\n",
      "6\n",
      "8\n",
      "10\n"
     ]
    }
   ],
   "source": [
    "l = [2, 4, 6, 8, 10, 12, 14, 16, 18, 20]\n",
    "iterator = iter(l)\n",
    "for i in range (5):\n",
    "    element = next(iterator)\n",
    "    print (element)"
   ]
  },
  {
   "cell_type": "markdown",
   "id": "0f4155ec-03d4-4f94-93a3-677e821d9271",
   "metadata": {},
   "source": [
    "Q4.  What is a generator function in python? Why yield keyword is used? Give an example of a generator\n",
    "function."
   ]
  },
  {
   "cell_type": "markdown",
   "id": "f45de8a1-002a-43d3-9e38-81afc9d12af7",
   "metadata": {},
   "source": [
    "A generator function is a type of function that contains one or more yield statements. It is helpful while working with large data sets. Unlike regular functions that execute and return a value, generator functions generates a sequence of values without having to generate all of them in memory at once. \n",
    "\n",
    "The \"yield\" keyword is used to yield a value from the generator function. It creates an iterator and starts executing the function until it encounters the yield statement.\n",
    "\n",
    "A relevant examle is provided below-"
   ]
  },
  {
   "cell_type": "code",
   "execution_count": 26,
   "id": "b9c96df2-f72f-4ec5-b1a2-58e5cf856134",
   "metadata": {},
   "outputs": [],
   "source": [
    "def squares(n):\n",
    "    for i in range(n):\n",
    "        yield i ** 2"
   ]
  },
  {
   "cell_type": "code",
   "execution_count": 28,
   "id": "5cbc65b4-e208-4a95-9942-8838ee5f3017",
   "metadata": {},
   "outputs": [
    {
     "name": "stdout",
     "output_type": "stream",
     "text": [
      "0\n",
      "1\n",
      "4\n",
      "9\n",
      "16\n"
     ]
    }
   ],
   "source": [
    "squares_generator = squares(5)\n",
    "for i in squares_generator:\n",
    "    print(i)\n"
   ]
  },
  {
   "cell_type": "markdown",
   "id": "9b63736f-f437-45d8-8926-98f683678713",
   "metadata": {},
   "source": [
    "Q5. Create a generator function for prime numbers less than 1000. Use the next() method to print the\n",
    "first 20 prime numbers."
   ]
  },
  {
   "cell_type": "code",
   "execution_count": 15,
   "id": "943a6f78-01dd-47bb-b67a-e653ea4bdad4",
   "metadata": {},
   "outputs": [],
   "source": [
    "def prime(n):\n",
    "    if n <= 1:\n",
    "        return False\n",
    "    if n <= 3:\n",
    "        return True\n",
    "    if n % 2 == 0 or n % 3 == 0:\n",
    "        return False\n",
    "    i = 5\n",
    "    while i * i <= n:\n",
    "        if n % i == 0 or n % (i + 2) == 0:\n",
    "            return False\n",
    "        i += 6\n",
    "    return True"
   ]
  },
  {
   "cell_type": "code",
   "execution_count": 16,
   "id": "e58f5251-6a63-41bb-8c10-8944bfc6229e",
   "metadata": {},
   "outputs": [],
   "source": [
    "def generator(limit):\n",
    "    num = 2\n",
    "    while num < limit:\n",
    "        if is_prime(num):\n",
    "            yield num\n",
    "        num += 1"
   ]
  },
  {
   "cell_type": "code",
   "execution_count": 17,
   "id": "925730c3-1f8d-42ad-bfe2-6b33f9b4939e",
   "metadata": {},
   "outputs": [
    {
     "name": "stdout",
     "output_type": "stream",
     "text": [
      "2\n",
      "3\n",
      "5\n",
      "7\n",
      "11\n",
      "13\n",
      "17\n",
      "19\n",
      "23\n",
      "29\n",
      "31\n",
      "37\n",
      "41\n",
      "43\n",
      "47\n",
      "53\n",
      "59\n",
      "61\n",
      "67\n",
      "71\n"
     ]
    }
   ],
   "source": [
    "p = generator(1000)\n",
    "for i in range(20):\n",
    "    print(next(p))"
   ]
  },
  {
   "cell_type": "code",
   "execution_count": null,
   "id": "b531e79c-6329-4852-99f0-014ed334e479",
   "metadata": {},
   "outputs": [],
   "source": []
  }
 ],
 "metadata": {
  "kernelspec": {
   "display_name": "Python 3 (ipykernel)",
   "language": "python",
   "name": "python3"
  },
  "language_info": {
   "codemirror_mode": {
    "name": "ipython",
    "version": 3
   },
   "file_extension": ".py",
   "mimetype": "text/x-python",
   "name": "python",
   "nbconvert_exporter": "python",
   "pygments_lexer": "ipython3",
   "version": "3.10.8"
  }
 },
 "nbformat": 4,
 "nbformat_minor": 5
}
